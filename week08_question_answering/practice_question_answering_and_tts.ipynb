{
 "cells": [
  {
   "cell_type": "markdown",
   "metadata": {
    "id": "DphyQXreodzp"
   },
   "source": [
    "# Practice: Question Answering with a Fine-Tuned BERT (and TTS example)\n",
    "\n",
    "This notebook is based on great [post and corresponding notebook](https://mccormickml.com/2020/03/10/question-answering-with-a-fine-tuned-BERT/) *by Chris McCormick*. It contains some minor changes and additions (especially parts 3 and 4)."
   ]
  },
  {
   "cell_type": "markdown",
   "metadata": {
    "id": "6_mAnIPKaXyw"
   },
   "source": [
    "What does it mean for BERT to achieve \"human-level performance on Question Answering\"? Is BERT the greatest search engine ever, able to find the answer to any question we pose it?\n",
    "\n",
    "In **Part 1** of this notebook, we will discuss what it really means to apply BERT to QA, and illustrate the details.\n",
    "\n",
    "**Part 2** contains example code--we'll be downloading a model that's *already been fine-tuned* for question answering, and try it out on our own text! \n",
    "\n",
    "In **Part 3** we will apply the same approach to Russian language using the model pre-trained on SberQuAD dataset.\n",
    "\n",
    "And in **Part 4** and **Part 5** we will generate question and answer as audio in english and russian languages.\n",
    "\n",
    "**Links**\n",
    "\n",
    "* The [video walkthrough](https://youtu.be/l8ZYCvgGu0o) on this topic. \n",
    "* The [original blog post](https://mccormickml.com/2020/03/10/question-answering-with-a-fine-tuned-BERT/) version.\n",
    "* The [original Colab Notebook](https://colab.research.google.com/drive/1uSlWtJdZmLrI3FCNIlUHFxwAJiSu2J0-)."
   ]
  },
  {
   "cell_type": "code",
   "execution_count": null,
   "metadata": {
    "colab": {
     "base_uri": "https://localhost:8080/",
     "height": 1000
    },
    "id": "-5uC3kgC7rRK",
    "outputId": "97c24371-376c-4f56-a8fa-460d0d398bca"
   },
   "outputs": [],
   "source": [
    "!pip install -U transformers deeppavlov unidecode omegaconf"
   ]
  },
  {
   "cell_type": "code",
   "execution_count": null,
   "metadata": {
    "id": "d5YCFVasLbaM"
   },
   "outputs": [],
   "source": [
    "# This cell is optional and needed only for Russian language inference\n",
    "\n",
    "\n",
    "# !python -m deeppavlov install squad_ru_rubert\n",
    "\n",
    "# # Pre-downloading the BERT for Russian language. Same result can be achieved with\n",
    "# # `!python -m deeppavlov download squad_ru_rubert`\n",
    "# # But it works significantly slower.\n",
    "# !wget -nc https://www.dropbox.com/s/7za1o6vaffbdlcg/rubert_cased_L-12_H-768_A-12_v1.tar.gz\n",
    "# !mkdir -p /root/.deeppavlov/downloads/bert_models/\n",
    "# !tar -xzvf rubert_cased_L-12_H-768_A-12_v1.tar.gz -C /root/.deeppavlov/downloads/bert_models\n",
    "\n",
    "# !wget -nc https://www.dropbox.com/s/ns8280pd9t9n9dc/squad_model_ru_rubert.tar.gz\n",
    "# !mkdir -p /root/.deeppavlov/models/\n",
    "# !tar -xzvf squad_model_ru_rubert.tar.gz -C /root/.deeppavlov/models"
   ]
  },
  {
   "cell_type": "code",
   "execution_count": null,
   "metadata": {
    "colab": {
     "base_uri": "https://localhost:8080/"
    },
    "id": "OfzJwB_17rRM",
    "outputId": "f48ad518-2d66-4912-b720-2d772fb04b4f"
   },
   "outputs": [],
   "source": [
    "import torch\n",
    "\n",
    "assert torch.cuda.is_available(), 'Tacotron2 by NVIDIA infers only on GPU, so the Part 4 will not work on CPU-only machine'\n",
    "\n",
    "device = torch.device('cuda:0')\n",
    "tacotron2 = torch.hub.load('nvidia/DeepLearningExamples:torchhub', 'nvidia_tacotron2', **{'map_location': device})\n",
    "tacotron2.to(device)\n",
    "tacotron2.eval()\n",
    "\n",
    "waveglow = torch.hub.load('nvidia/DeepLearningExamples:torchhub', 'nvidia_waveglow')\n",
    "waveglow = waveglow.remove_weightnorm(waveglow)\n",
    "waveglow.to(device)\n",
    "waveglow.eval();"
   ]
  },
  {
   "cell_type": "markdown",
   "metadata": {
    "id": "X2bUvKUffHNY"
   },
   "source": [
    "## Part 1: Applying BERT to Question Answering"
   ]
  },
  {
   "cell_type": "markdown",
   "metadata": {
    "id": "Su7fixBdiUex"
   },
   "source": [
    "### The SQuAD v1.1 Benchmark"
   ]
  },
  {
   "cell_type": "markdown",
   "metadata": {
    "id": "bT5ESKDxfnLf"
   },
   "source": [
    "When someone mentions \"Question Answering\" as an application of BERT, what they are really referring to is applying BERT to the Stanford Question Answering Dataset (SQuAD).\n",
    "\n",
    "The task posed by the SQuAD benchmark is a little different than you might think. Given a question, and *a passage of text containing the answer* (often refered to as context), BERT needs to highlight the \"span\" of text corresponding to the correct answer. \n",
    "\n",
    "The SQuAD homepage has a fantastic tool for exploring the questions and reference text for this dataset, and even shows the predictions made by top-performing models.\n",
    "\n",
    "For example, here are some [interesting examples](https://rajpurkar.github.io/SQuAD-explorer/explore/1.1/dev/Super_Bowl_50.html?model=r-net+%20(ensemble)%20(Microsoft%20Research%20Asia)&version=1.1) on the topic of Super Bowl 50.\n"
   ]
  },
  {
   "cell_type": "markdown",
   "metadata": {
    "id": "_xN5f1bxf6K_"
   },
   "source": [
    "### BERT Input Format"
   ]
  },
  {
   "cell_type": "markdown",
   "metadata": {
    "id": "Ctum5SK6f9uP"
   },
   "source": [
    "To feed a QA task into BERT, we pack both the question and the reference text into the input.\n",
    "\n",
    "![Input format for QA](https://raw.githubusercontent.com/neychev/made_nlp_course/master/week10_speech_distillation_and_perspectives/img/input_formatting_image.png)\n",
    "*Image credits: [Chris McCormick](https://mccormickml.com/2020/03/10/question-answering-with-a-fine-tuned-BERT/)*\n",
    "\n",
    "The two pieces of text are separated by the special `[SEP]` token. \n",
    "\n",
    "> _Side note:_ Original BERT also uses \"Segment Embeddings\" to differentiate the question from the reference text. These are simply two embeddings (for segments \"A\" and \"B\") that BERT learned, and which it adds to the token embeddings before feeding them into the input layer. However today we will be using DistilBERT model, which relies solely on the special tokens."
   ]
  },
  {
   "cell_type": "markdown",
   "metadata": {
    "id": "xs31dcrPg5Tg"
   },
   "source": [
    "### Start & End Token Classifiers"
   ]
  },
  {
   "cell_type": "markdown",
   "metadata": {
    "id": "lvOdUa9Wg-Uv"
   },
   "source": [
    "BERT needs to highlight a \"span\" of text containing the answer--this is represented as simply predicting which token marks the start of the answer, and which token marks the end.\n",
    "\n",
    "![Start token classification](https://raw.githubusercontent.com/neychev/made_nlp_course/master/week10_speech_distillation_and_perspectives/img/start_token_classification_image.png)\n",
    "*Image credits: [Chris McCormick](https://mccormickml.com/2020/03/10/question-answering-with-a-fine-tuned-BERT/)*\n",
    "\n",
    "For every token in the text, we feed its final embedding into the start token classifier. The start token classifier only has a single set of weights (represented by the blue \"start\" rectangle in the above illustration) which it applies to every word.\n",
    "\n",
    "After taking the dot product between the output embeddings and the 'start' weights, we apply the softmax activation to produce a probability distribution over all of the words. Whichever word has the highest probability of being the start token is the one that we pick.\n",
    "\n",
    "We repeat this process for the end token--we have a separate weight vector this.\n",
    "\n",
    "![End token classification](https://raw.githubusercontent.com/neychev/made_nlp_course/master/week10_speech_distillation_and_perspectives/img/end_token_classification_image.png)\n",
    "*Image credits: [Chris McCormick](https://mccormickml.com/2020/03/10/question-answering-with-a-fine-tuned-BERT/)*"
   ]
  },
  {
   "cell_type": "markdown",
   "metadata": {
    "id": "457VPa20fZzY"
   },
   "source": [
    "## Part 2: Example Code"
   ]
  },
  {
   "cell_type": "markdown",
   "metadata": {
    "id": "9wpCLgVCkki5"
   },
   "source": [
    "In the example code below, we'll be downloading a model that's *already been fine-tuned* for question answering, and try it out on our own text.\n",
    "\n",
    "If you do want to fine-tune on your own dataset, it is possible to fine-tune BERT for question answering yourself. See [run_squad.py](https://github.com/huggingface/transformers/blob/master/examples/run_squad.py) in the `transformers` library. However, you may find that the \"fine-tuned-on-squad\" model already does a good job, even if your text is from a different domain."
   ]
  },
  {
   "cell_type": "markdown",
   "metadata": {
    "id": "gVq-TuylYRDW"
   },
   "source": [
    "### 1. Load Fine-Tuned BERT"
   ]
  },
  {
   "cell_type": "markdown",
   "metadata": {
    "id": "f9nhy3PzGQ44"
   },
   "source": [
    "This example uses the `transformers` [library](https://github.com/huggingface/transformers/) by huggingface. We've already installed it in the top of this notebook.\n",
    "\n",
    "For Question Answering we use the `DistilBertForQuestionAnswering` class from the `transformers` library.\n",
    "\n",
    "This class supports fine-tuning, but for this example we will keep things simpler and load a BERT model that has already been fine-tuned for the SQuAD benchmark.\n",
    "\n",
    "The `transformers` library has a large collection of pre-trained models which you can reference by name and load easily. The full list is in their documentation [here](https://huggingface.co/transformers/pretrained_models.html)."
   ]
  },
  {
   "cell_type": "code",
   "execution_count": null,
   "metadata": {
    "colab": {
     "base_uri": "https://localhost:8080/",
     "height": 231,
     "referenced_widgets": [
      "f10f304cd83a424bb1acce2a79cac5a5",
      "60050037056f4231ab5c6afa8ae9ec27",
      "8d9aded51b004aababcda8e76798a534",
      "e4c848c91a394012bbab804ff3e888a8",
      "71f49045ee564ca3b485270db1e69792",
      "1b981c0d4a0a4bdca32bb12960ce8a7a",
      "07f8ddf6b1ae4143862d4e1888b253cb",
      "32364789d1ff47fc8c4056a7b48a7634",
      "7d1f7a87ed484be999ea793bf4c34dd3",
      "a51916d0bd0a43fdba9e46f20a80d6a2",
      "eef6db037885440f891824e5a8f5358f",
      "1d6782097f9a45758fea597727c42da3",
      "301ac3b9e5d04242b05d5943367bf048",
      "18a7445e957446ffa372185756f6b64c",
      "c6e9545c4c03427591aac4f49c774ff7",
      "0ae8437438404098a5a6206b05ecf453",
      "7669b34be42a4453b3e3ba0e60faee75",
      "e36ef4cbcb4c466283f85f5d523d66cd",
      "49107e49101e469abe491d5fb4e4466a",
      "d434a8d87ce24bf7865ba75298d95729",
      "2165f1cd0739407a92079f643ac74ae3",
      "494fb6f653f845b3837db00241bf4798",
      "3056ad61695a42ffadd7954a5a7503ed",
      "2061f0fcebbd4806a5b7308ea3079a7b",
      "18a3cd219c8642d3b6001f4dbed8a1a9",
      "e4099cf7a2c1426d844c1febc644001a",
      "fe8d0c53f5704e42b7c271fecaa48851",
      "4f9a99283eec4c31b8ed463a0a5c4366",
      "c30803de30894426958ad02fbc9f0002",
      "3ffe97d1a93d46c5ad72625841831419",
      "b12f548d82ca4586b61f701cb1abacb4",
      "f7819d286ecc424e83c1d6e509ab1486",
      "ed11dd778e2f49af96e269c4c37c6417",
      "17f2ae98a8d1440b8beebc2f8aaff051",
      "7ce0c95f422148ec92feee15262845f7",
      "0bae2a0bb31b46f39a29c450e8c983c9",
      "3d5da11d2072432face40e6f729f644b",
      "f8318de1c5c74051adcf59d5f6261903",
      "228cd2bb1c5a48088cd48fed5e8ee2e5",
      "1c750fddb4f14ac397026785a004921d",
      "e99dd095993f4053b5ba2a9c306582b9",
      "f7d2834f66ac48719f1fd47dda33d7dc",
      "3f4e292341444c128a6941020bf78ea7",
      "0695270fa12047a69a2dcef569155b25",
      "85e24abbc05d4937ac86793c9c36e1f5",
      "3ec7e9e71b5e4feea47fe12b5f751d57",
      "8ca5505516334e50b305f559633213fd",
      "96eb7cdf8e9b48bfb3a619c3a6b4e3e0",
      "c97f4996f8d14b9c94cfefaf1c7adfea",
      "59df97cee8854be19b28d63f714816be",
      "28e9a4b59d8940228874918132a4379a",
      "26506f018a824fd2981562f17ada25e9",
      "0e8242194958409abe8c5830767ae7b8",
      "68976e9d2ac1420cb548307c96c5a8a6",
      "1aaa4d2569574c89a646d202738a829e"
     ]
    },
    "id": "apS1yS6CdRyX",
    "outputId": "077a5f84-dcf5-45ec-973c-944f48a4d101"
   },
   "outputs": [],
   "source": [
    "from transformers import DistilBertTokenizer, DistilBertForQuestionAnswering\n",
    "\n",
    "tokenizer = DistilBertTokenizer.from_pretrained('distilbert-base-uncased-distilled-squad')\n",
    "model = DistilBertForQuestionAnswering.from_pretrained('distilbert-base-uncased-distilled-squad')"
   ]
  },
  {
   "cell_type": "markdown",
   "metadata": {
    "id": "8imoOxoqGZ0h"
   },
   "source": [
    "> _Side note:_ Apparently the vocabulary of this model is identicaly to the one in bert-base-uncased. You can load the tokenizer from `bert-base-uncased` and that works just as well."
   ]
  },
  {
   "cell_type": "markdown",
   "metadata": {
    "id": "I__1ubvcZYow"
   },
   "source": [
    "### 2. Ask a Question"
   ]
  },
  {
   "cell_type": "markdown",
   "metadata": {
    "id": "o8MQ7b-GJIcM"
   },
   "source": [
    "Now we're ready to feed in an example!\n",
    "\n",
    "A QA example consists of a question and a passage of text containing the answer to that question."
   ]
  },
  {
   "cell_type": "code",
   "execution_count": null,
   "metadata": {
    "id": "kWzZP4EN-Zxg"
   },
   "outputs": [],
   "source": [
    "question = \"How many parameters does BERT-large have?\"\n",
    "context = (\n",
    "    \"BERT-large is really big... it has 24-layers and an embedding size of 1,024, \"\n",
    "    \"for a total of 340M parameters! Altogether it is 1.34GB, so expect it to \"\n",
    "    \"take a couple minutes to download to your Colab instance.\"\n",
    ")"
   ]
  },
  {
   "cell_type": "markdown",
   "metadata": {
    "id": "llLvxhScKLZn"
   },
   "source": [
    "We'll need to run the BERT tokenizer against both the `question` and the `context`. To feed these into BERT, we actually concatenate them together and place the special `[SEP]` token in between.\n"
   ]
  },
  {
   "cell_type": "code",
   "execution_count": null,
   "metadata": {
    "colab": {
     "base_uri": "https://localhost:8080/"
    },
    "id": "tYoX33CfKGsr",
    "outputId": "033d60bf-6741-441b-d3ef-bfab2050c046"
   },
   "outputs": [],
   "source": [
    "# Apply the tokenizer to the input text, treating them as a text-pair.\n",
    "input_ids = tokenizer.encode(question, context)\n",
    "print(f'The input has a total of {len(input_ids)} tokens.')"
   ]
  },
  {
   "cell_type": "markdown",
   "metadata": {
    "id": "pNRVuaKSNFG8"
   },
   "source": [
    "Just to see exactly what the tokenizer is doing, let's print out the tokens with their IDs."
   ]
  },
  {
   "cell_type": "code",
   "execution_count": null,
   "metadata": {
    "colab": {
     "base_uri": "https://localhost:8080/"
    },
    "id": "Iow838yPNDTv",
    "outputId": "9d3bfc3a-2386-4d1a-ad49-b35f4d959c98"
   },
   "outputs": [],
   "source": [
    "# BERT only needs the token IDs, but for the purpose of inspecting the \n",
    "# tokenizer's behavior, let's also get the token strings and display them.\n",
    "tokens = tokenizer.convert_ids_to_tokens(input_ids)\n",
    "\n",
    "# Display tokens and ids as table.\n",
    "# For each token and its id...\n",
    "for token, token_id in zip(tokens, input_ids):\n",
    "    \n",
    "    # If this is the [SEP] token, add some space around it to make it stand out.\n",
    "    if token_id == tokenizer.sep_token_id:\n",
    "        print()\n",
    "    \n",
    "    # Print the token string and its ID in two columns.\n",
    "    print('{:<12} {:>6,}'.format(token, token_id))\n",
    "\n",
    "    if token_id == tokenizer.sep_token_id:\n",
    "        print()"
   ]
  },
  {
   "cell_type": "markdown",
   "metadata": {
    "id": "CNwhEw0kQPBN"
   },
   "source": [
    "We're ready to feed our example into the model!\n",
    "\n"
   ]
  },
  {
   "cell_type": "code",
   "execution_count": null,
   "metadata": {
    "colab": {
     "base_uri": "https://localhost:8080/"
    },
    "id": "HK0obn5x-1EI",
    "outputId": "89898262-bfe5-4fac-ea23-f211f3703faf"
   },
   "outputs": [],
   "source": [
    "import torch\n",
    "\n",
    "inputs = tokenizer(question, context, return_tensors='pt')\n",
    "with torch.no_grad():\n",
    "    outputs = model(**inputs)\n",
    "\n",
    "start_scores = outputs.start_logits\n",
    "end_scores = outputs.end_logits\n",
    "start_scores"
   ]
  },
  {
   "cell_type": "markdown",
   "metadata": {
    "id": "a30sBTcqQv6X"
   },
   "source": [
    ">*Side Note: Where's the padding?*\n",
    ">\n",
    "> The original [example code](https://huggingface.co/transformers/model_doc/bert.html?highlight=bertforquestionanswering#transformers.BertForQuestionAnswering) does not perform any padding. I suspect that this is because we are only feeding in a *single example*. If we instead fed in a batch of examples, then we would need to pad or truncate all of the samples in the batch to a single length, and supply an attention mask to tell BERT to ignore the padding tokens. "
   ]
  },
  {
   "cell_type": "markdown",
   "metadata": {
    "id": "mBdS_QkIbDzh"
   },
   "source": [
    "Now we can highlight the answer just by looking at the most probable start and end words. "
   ]
  },
  {
   "cell_type": "code",
   "execution_count": null,
   "metadata": {
    "colab": {
     "base_uri": "https://localhost:8080/"
    },
    "id": "LeUQ44hAJmn9",
    "outputId": "c9afd2de-5a24-480d-cb76-fa3726b549cd"
   },
   "outputs": [],
   "source": [
    "# Find the tokens with the highest `start` and `end` scores.\n",
    "answer_start = torch.argmax(start_scores)\n",
    "answer_end = torch.argmax(end_scores)\n",
    "\n",
    "# Combine the tokens in the answer and print it out.\n",
    "answer = ' '.join(tokens[answer_start : answer_end + 1])\n",
    "\n",
    "print(f'Answer: \"{answer}\"')"
   ]
  },
  {
   "cell_type": "markdown",
   "metadata": {
    "id": "twMUWmr2brRw"
   },
   "source": [
    "It got it right! Awesome :)"
   ]
  },
  {
   "cell_type": "markdown",
   "metadata": {
    "id": "cERYCGKMbOXX"
   },
   "source": [
    "> *Side Note: It's a little naive to pick the highest scores for start and end--what if it predicts an end word that's before the start word?! The correct implementation is to pick the highest total score for which end >= start.*"
   ]
  },
  {
   "cell_type": "markdown",
   "metadata": {
    "id": "N6j2znkwXYsn"
   },
   "source": [
    "With a little more effort, we can reconstruct any words that got broken down into subwords."
   ]
  },
  {
   "cell_type": "code",
   "execution_count": null,
   "metadata": {
    "colab": {
     "base_uri": "https://localhost:8080/"
    },
    "id": "pBrAsWMJrw7i",
    "outputId": "dd9159ea-7377-4a5c-c499-e9815f8c677f"
   },
   "outputs": [],
   "source": [
    "answer = tokenizer.convert_tokens_to_string(tokens[answer_start : answer_end + 1])\n",
    "print(f'Answer: \"{answer}\"')"
   ]
  },
  {
   "cell_type": "markdown",
   "metadata": {
    "id": "-hh6nkIdXq-O"
   },
   "source": [
    "### 3. Visualizing Scores"
   ]
  },
  {
   "cell_type": "markdown",
   "metadata": {
    "id": "-hG2YCHYXtg-"
   },
   "source": [
    "Let's see what the scores were for all of the words. The following cells generate bar plots showing the start and end scores for every word in the input."
   ]
  },
  {
   "cell_type": "code",
   "execution_count": null,
   "metadata": {
    "id": "gkKFa73eJkPE"
   },
   "outputs": [],
   "source": [
    "import matplotlib.pyplot as plt\n",
    "import seaborn as sns\n",
    "\n",
    "# Use plot styling from seaborn.\n",
    "sns.set(style='darkgrid')\n",
    "\n",
    "# Increase the plot size and font size.\n",
    "plt.rcParams['figure.figsize'] = (16, 8)\n",
    "plt.rcParams['font.size'] = 16"
   ]
  },
  {
   "cell_type": "markdown",
   "metadata": {
    "id": "W7kazkb2iEuQ"
   },
   "source": [
    "Retrieve all of the start and end scores, and use all of the tokens as x-axis labels."
   ]
  },
  {
   "cell_type": "code",
   "execution_count": null,
   "metadata": {
    "id": "C56AtMg2UBxN"
   },
   "outputs": [],
   "source": [
    "# Pull the scores out of PyTorch Tensors and convert them to 1D numpy arrays.\n",
    "start_scores = start_scores.numpy().flatten()\n",
    "end_scores = end_scores.numpy().flatten()\n",
    "\n",
    "# We'll use the tokens as the x-axis labels. In order to do that, they all need\n",
    "# to be unique, so we'll add the token index to the end of each one.\n",
    "token_labels = []\n",
    "for (i, token) in enumerate(tokens):\n",
    "    token_labels.append('{:} - {:>2}'.format(token, i))"
   ]
  },
  {
   "cell_type": "markdown",
   "metadata": {
    "id": "NIaW7RyTiLeu"
   },
   "source": [
    "Create a bar plot showing the score for every input word being the \"start\" word."
   ]
  },
  {
   "cell_type": "code",
   "execution_count": null,
   "metadata": {
    "colab": {
     "base_uri": "https://localhost:8080/",
     "height": 581
    },
    "id": "y6OAV1dL3-UB",
    "outputId": "4b56edcf-a145-4212-ac1b-0cb5c6b187bf"
   },
   "outputs": [],
   "source": [
    "# Create a barplot showing the start word score for all of the tokens.\n",
    "ax = sns.barplot(x=token_labels, y=start_scores, ci=None)\n",
    "\n",
    "# Turn the xlabels vertical.\n",
    "ax.set_xticklabels(ax.get_xticklabels(), rotation=90, ha=\"center\")\n",
    "\n",
    "# Turn on the vertical grid to help align words to scores.\n",
    "ax.grid(True)\n",
    "\n",
    "plt.title('Start Word Scores');"
   ]
  },
  {
   "cell_type": "markdown",
   "metadata": {
    "id": "zIwrF7y6iS1l"
   },
   "source": [
    "Create a second bar plot showing the score for every input word being the \"end\" word."
   ]
  },
  {
   "cell_type": "code",
   "execution_count": null,
   "metadata": {
    "colab": {
     "base_uri": "https://localhost:8080/",
     "height": 581
    },
    "id": "6tXEqIp-Tzou",
    "outputId": "a2aff3b3-8767-4870-bb78-d32fae66ce29"
   },
   "outputs": [],
   "source": [
    "# Create a barplot showing the end word score for all of the tokens.\n",
    "ax = sns.barplot(x=token_labels, y=end_scores, ci=None)\n",
    "\n",
    "# Turn the xlabels vertical.\n",
    "ax.set_xticklabels(ax.get_xticklabels(), rotation=90, ha=\"center\")\n",
    "\n",
    "# Turn on the vertical grid to help align words to scores.\n",
    "ax.grid(True)\n",
    "\n",
    "plt.title('End Word Scores');"
   ]
  },
  {
   "cell_type": "markdown",
   "metadata": {
    "id": "awgi7Z_a9KSq"
   },
   "source": [
    "**Alternate View**\n",
    "\n",
    "I also tried visualizing both the start and end scores on a single bar plot, but I think it may actually be more confusing then seeing them separately. "
   ]
  },
  {
   "cell_type": "code",
   "execution_count": null,
   "metadata": {
    "id": "m4VUk6R05uXS"
   },
   "outputs": [],
   "source": [
    "import pandas as pd\n",
    "\n",
    "# Store the tokens and scores in a DataFrame. \n",
    "# Each token will have two rows, one for its start score and one for its end\n",
    "# score. The \"marker\" column will differentiate them. A little wacky, I know.\n",
    "scores = []\n",
    "for (i, token_label) in enumerate(token_labels):\n",
    "\n",
    "    # Add the token's start score as one row.\n",
    "    scores.append({'token_label': token_label, \n",
    "                   'score': start_scores[i],\n",
    "                   'marker': 'start'})\n",
    "    \n",
    "    # Add  the token's end score as another row.\n",
    "    scores.append({'token_label': token_label, \n",
    "                   'score': end_scores[i],\n",
    "                   'marker': 'end'})\n",
    "    \n",
    "df = pd.DataFrame(scores)"
   ]
  },
  {
   "cell_type": "code",
   "execution_count": null,
   "metadata": {
    "colab": {
     "base_uri": "https://localhost:8080/",
     "height": 508
    },
    "id": "07xyo-I97Ntt",
    "outputId": "0cd0ac4d-d9b2-4d0b-86b2-0ee77241e2bc"
   },
   "outputs": [],
   "source": [
    "# Draw a grouped barplot to show start and end scores for each word.\n",
    "# The \"hue\" parameter is where we tell it which datapoints belong to which\n",
    "# of the two series.\n",
    "plot = sns.catplot(\n",
    "    x=\"token_label\", y=\"score\", hue=\"marker\",\n",
    "    data=df, kind=\"bar\", height=6, aspect=4\n",
    ")\n",
    "\n",
    "# Turn the xlabels vertical.\n",
    "plot.set_xticklabels(plot.ax.get_xticklabels(), rotation=90, ha=\"center\")\n",
    "\n",
    "# Turn on the vertical grid to help align words to scores.\n",
    "plot.ax.grid(True);"
   ]
  },
  {
   "cell_type": "markdown",
   "metadata": {
    "id": "8UyBYNmeegGf"
   },
   "source": [
    "### 4. More Examples"
   ]
  },
  {
   "cell_type": "markdown",
   "metadata": {
    "id": "MWtcRpPef-Ce"
   },
   "source": [
    "Turn the QA process into a function so we can easily try out other examples."
   ]
  },
  {
   "cell_type": "code",
   "execution_count": null,
   "metadata": {
    "id": "rH8NbBlsfxZ_"
   },
   "outputs": [],
   "source": [
    "def answer_question(question, context):\n",
    "    # ======== Tokenize ========\n",
    "    # Apply the tokenizer to the input text, treating them as a text-pair.\n",
    "    inputs = tokenizer(question, context, return_tensors='pt')\n",
    "    input_ids = inputs.input_ids.numpy().flatten()\n",
    "\n",
    "    # ======== Evaluate ========\n",
    "    # Run our example question through the model.\n",
    "    outputs = model(**inputs)\n",
    "    start_scores = outputs.start_logits\n",
    "    end_scores = outputs.end_logits\n",
    "\n",
    "    # ======== Reconstruct Answer ========\n",
    "    # Find the tokens with the highest `start` and `end` scores.\n",
    "    answer_start = torch.argmax(start_scores)\n",
    "    answer_end = torch.argmax(end_scores)\n",
    "\n",
    "    # Get the string versions of the input tokens.\n",
    "    token_ids = input_ids[answer_start : answer_end + 1]\n",
    "    tokens = tokenizer.convert_ids_to_tokens(token_ids)\n",
    "    answer = tokenizer.convert_tokens_to_string(tokens)\n",
    "\n",
    "    return answer"
   ]
  },
  {
   "cell_type": "markdown",
   "metadata": {
    "id": "DVlKTK-njWrX"
   },
   "source": [
    "As our reference text, we've taken the Abstract of the [BERT paper](https://arxiv.org/pdf/1810.04805.pdf).\n"
   ]
  },
  {
   "cell_type": "code",
   "execution_count": null,
   "metadata": {
    "id": "mqfBGgc8AKk2"
   },
   "outputs": [],
   "source": [
    "bert_abstract = (\n",
    "    'We introduce a new language representation model called BERT, which stands for '\n",
    "    'Bidirectional Encoder Representations from Transformers. Unlike recent language '\n",
    "    'representation models (Peters et al., 2018a; Radford et al., 2018), BERT is '\n",
    "    'designed to pretrain deep bidirectional representations from unlabeled text by '\n",
    "    'jointly conditioning on both left and right context in all layers. As a result, '\n",
    "    'the pre-trained BERT model can be finetuned with just one additional output '\n",
    "    'layer to create state-of-the-art models for a wide range of tasks, such as '\n",
    "    'question answering and language inference, without substantial taskspecific '\n",
    "    'architecture modifications. BERT is conceptually simple and empirically '\n",
    "    'powerful. It obtains new state-of-the-art results on eleven natural language '\n",
    "    'processing tasks, including pushing the GLUE score to 80.5% (7.7% point absolute '\n",
    "    'improvement), MultiNLI accuracy to 86.7% (4.6% absolute improvement), SQuAD v1.1 '\n",
    "    'question answering Test F1 to 93.2 (1.5 point absolute improvement) and SQuAD '\n",
    "    'v2.0 Test F1 to 83.1 (5.1 point absolute improvement).'\n",
    ")"
   ]
  },
  {
   "cell_type": "markdown",
   "metadata": {
    "id": "ay_mwbBJAP87"
   },
   "source": [
    "Let's ask BERT what its name stands for (the answer is in the first sentence of the abstract)."
   ]
  },
  {
   "cell_type": "code",
   "execution_count": null,
   "metadata": {
    "colab": {
     "base_uri": "https://localhost:8080/"
    },
    "id": "y4VPq6FdjxyX",
    "outputId": "feaefc87-1e67-4ce9-f24f-b5c732e0c989"
   },
   "outputs": [],
   "source": [
    "question = \"What does the 'B' in BERT stand for?\"\n",
    "answer = answer_question(question, bert_abstract)\n",
    "print(f'Answer: \"{answer}\"')"
   ]
  },
  {
   "cell_type": "markdown",
   "metadata": {
    "id": "B6HcijzxkTO9"
   },
   "source": [
    "Let's ask BERT about example applications of itself :)\n",
    "\n",
    "The answer to the question comes from this passage from the abstract: \n",
    "\n",
    "> \"...BERT model can be finetuned with just one additional output\n",
    "layer to create state-of-the-art models for **a wide range of tasks, such as\n",
    "question answering and language inference,** without substantial taskspecific\n",
    "architecture modifications.\""
   ]
  },
  {
   "cell_type": "code",
   "execution_count": null,
   "metadata": {
    "colab": {
     "base_uri": "https://localhost:8080/"
    },
    "id": "MVNVGN5-gI06",
    "outputId": "8ab4d754-6d14-4515-8772-bf08553ea7c9"
   },
   "outputs": [],
   "source": [
    "question = \"What are some example applications of BERT?\"\n",
    "answer = answer_question(question, bert_abstract)\n",
    "print(f'Answer: \"{answer}\"')"
   ]
  },
  {
   "cell_type": "markdown",
   "metadata": {
    "id": "WXAJ2wkV7rRl"
   },
   "source": [
    "## [Optional] Part 3. RuBERT for question answering."
   ]
  },
  {
   "cell_type": "markdown",
   "metadata": {
    "id": "TcnPsGzEbGL6"
   },
   "source": [
    "Here we will use the model pre-trained on the SberQuAD dataset from the [SDSJ-2017 challenge problem B](https://github.com/sberbank-ai/data-science-journey-2017/tree/master/problem_B)."
   ]
  },
  {
   "cell_type": "code",
   "execution_count": null,
   "metadata": {
    "colab": {
     "base_uri": "https://localhost:8080/"
    },
    "id": "3JslS5CG7rRl",
    "outputId": "e1cca72a-e1ce-423a-a2f9-ed51b7ce4340"
   },
   "outputs": [],
   "source": [
    "from deeppavlov import build_model, configs\n",
    "\n",
    "model_ru = build_model(configs.squad.squad_ru_rubert, download=False)"
   ]
  },
  {
   "cell_type": "markdown",
   "metadata": {
    "id": "GHVayqJ37rRl"
   },
   "source": [
    "The following text is copied from [habr post on Crew Dragon flight](https://habr.com/ru/news/t/504642/)."
   ]
  },
  {
   "cell_type": "code",
   "execution_count": null,
   "metadata": {
    "id": "l5pDyTRL7rRl"
   },
   "outputs": [],
   "source": [
    "context = (\n",
    "    'Первая многоразовая ступень ракеты-носителя Falcon 9 успешно отделилась через две с половиной '\n",
    "    'минуты после старта и автоматически приземлилась на плавучую платформу Of Course I Still '\n",
    "    'Love You у берегов Флориды. Через 12 минут после запуска космический корабль Crew Dragon '\n",
    "    'вышел на расчетную орбиту и отделился от второй ступени ракеты.'\n",
    "    '\\n\\n'\n",
    "    'Сближение корабля Crew Dragon с Международной космической станцией запланировано на 31 мая. '\n",
    "    'К стыковочному адаптеру на узловом модуле «Гармония» американского сегмента МКС Crew Dragon '\n",
    "    'должен причалить в ручном или, при необходимости, в автоматическом режиме. Эта процедура '\n",
    "    'запланирована на 10:29 по времени Восточного побережья США (17:29 по московскому времени).'\n",
    "    '\\n\\n'\n",
    "    'В испытательном полете DM2 астронавт Херли является командиром космического корабля (spacecraft '\n",
    "    'commander), а его напарник Бенкен — командир по операциям стыковки и расстыковки (joint '\n",
    "    'operations commander). Фактически это означает, что именно Херли управляет Crew Dragon в '\n",
    "    'полете к МКС, к которой они должны пристыковаться в течение суток после старта. Херли и Бенкен '\n",
    "    'также будут выполнять необходимые для сертификации НАСА проверки систем корабля в полете.'\n",
    "    '\\n\\n'\n",
    "    'Во время полета Херли и Бенкен провели небольшую экскурсию по Crew Dragon.'\n",
    ")"
   ]
  },
  {
   "cell_type": "markdown",
   "metadata": {
    "id": "5tVX9PJ_GPE-"
   },
   "source": [
    "And here is how to use deeppavlov's model:"
   ]
  },
  {
   "cell_type": "code",
   "execution_count": null,
   "metadata": {
    "colab": {
     "base_uri": "https://localhost:8080/"
    },
    "id": "05BDo1IjGFPG",
    "outputId": "fba7a5d0-d835-47b3-beb1-19f9cadcaf1e"
   },
   "outputs": [],
   "source": [
    "question = 'Когда отделилась первая ступень?'\n",
    "model_ru([context], [question])"
   ]
  },
  {
   "cell_type": "markdown",
   "metadata": {
    "id": "yyRAYAc_GxAL"
   },
   "source": [
    "The model returns list with answer, answer starting position in context and the answer logit.\n",
    "\n",
    "This yields the following `answer_question` function."
   ]
  },
  {
   "cell_type": "code",
   "execution_count": null,
   "metadata": {
    "id": "UXi5hm_AEFB4"
   },
   "outputs": [],
   "source": [
    "def answer_question_ru(question, context):\n",
    "    output = model_ru([context], [question])\n",
    "    return output[0][0]"
   ]
  },
  {
   "cell_type": "markdown",
   "metadata": {
    "id": "0wfCi3FvHBuL"
   },
   "source": [
    "Let's ask a bunch of other questions to the model."
   ]
  },
  {
   "cell_type": "code",
   "execution_count": null,
   "metadata": {
    "colab": {
     "base_uri": "https://localhost:8080/"
    },
    "id": "98PIvy4g7rRm",
    "outputId": "6af3638d-bf18-4a48-9832-947b37cc336c"
   },
   "outputs": [],
   "source": [
    "question = 'На какую дату запланирована стыковка?'\n",
    "answer = answer_question_ru(question, context)\n",
    "print(f'Ответ: \"{answer}\"')"
   ]
  },
  {
   "cell_type": "code",
   "execution_count": null,
   "metadata": {
    "colab": {
     "base_uri": "https://localhost:8080/"
    },
    "id": "K1BK3PAm7rRn",
    "outputId": "90665a68-76d3-46e0-9622-34617b142b19"
   },
   "outputs": [],
   "source": [
    "question = 'Кто участвует в полете?'\n",
    "answer = answer_question_ru(question, context)\n",
    "print(f'Ответ: \"{answer}\"')"
   ]
  },
  {
   "cell_type": "code",
   "execution_count": null,
   "metadata": {
    "colab": {
     "base_uri": "https://localhost:8080/"
    },
    "id": "Ugo2Wyd57rRn",
    "outputId": "da924f61-81fa-446c-f1aa-0972289703d2"
   },
   "outputs": [],
   "source": [
    "question = 'Кто участвует в полете кроме астронавта Херли?'\n",
    "answer = answer_question_ru(question, context)\n",
    "print(f'Ответ: \"{answer}\"')"
   ]
  },
  {
   "cell_type": "code",
   "execution_count": null,
   "metadata": {
    "colab": {
     "base_uri": "https://localhost:8080/"
    },
    "id": "5B4vytlCYTvs",
    "outputId": "2fdf869c-dcdd-405c-9542-f3d259191ddc"
   },
   "outputs": [],
   "source": [
    "question = 'Какие астронавты участвовали в полете?'\n",
    "answer = answer_question_ru(question, context)\n",
    "\n",
    "# Notice how model finds the appropriate answer dispite slightly different context.\n",
    "print(f'Ответ: \"{answer}\"')"
   ]
  },
  {
   "cell_type": "code",
   "execution_count": null,
   "metadata": {
    "colab": {
     "base_uri": "https://localhost:8080/"
    },
    "id": "I-AwQsIU7rRn",
    "outputId": "d72a2aed-32ad-4b70-a146-ec8febc7f7d1"
   },
   "outputs": [],
   "source": [
    "question = 'Какая ступень приземлилась на плавучую платформу Of Course I Still Love You?'\n",
    "answer = answer_question_ru(question, context)\n",
    "print(f'Ответ: \"{answer}\"')"
   ]
  },
  {
   "cell_type": "markdown",
   "metadata": {
    "id": "ZU4ZxB6o7rRp"
   },
   "source": [
    "## Part 4. Question answering with speech using Tacotron 2."
   ]
  },
  {
   "cell_type": "markdown",
   "metadata": {
    "id": "NVstcIVxadEr"
   },
   "source": [
    "### Text to speech using Tacotron 2."
   ]
  },
  {
   "cell_type": "markdown",
   "metadata": {
    "id": "aoj8MMIJbTji"
   },
   "source": [
    "Tacotron 2 is a network proposed in 2017 in [Natural TTS Synthesis By Conditioning\n",
    "Wavenet On Mel Spectrogram Predictions](https://arxiv.org/pdf/1712.05884.pdf) paper. This network takes an input text and maps it into the mel-frequency spectrogram. This spectrogram is then passed through a modified WaveNet (generative model for audio, original paper can be found [here](https://arxiv.org/pdf/1609.03499.pdf)) to generate the actual speech."
   ]
  },
  {
   "cell_type": "markdown",
   "metadata": {
    "id": "btil2I1zejk3"
   },
   "source": [
    "Let's look more closely at a mel spectrogram (for more info on its nature please refer to the [Tacotron 2 paper](https://arxiv.org/pdf/1712.05884.pdf))."
   ]
  },
  {
   "cell_type": "code",
   "execution_count": null,
   "metadata": {
    "colab": {
     "base_uri": "https://localhost:8080/",
     "height": 298
    },
    "id": "xDAPjR_Lx-uZ",
    "outputId": "a12ee1da-0bbe-4914-e572-fb0c5986e0a7"
   },
   "outputs": [],
   "source": [
    "assert tacotron2 is not None and waveglow is not None, 'Tacotron2 by NVIDIA infers only on GPU, so the Part 4 will not work on CPU-only machine'\n",
    "utils = torch.hub.load('NVIDIA/DeepLearningExamples:torchhub', 'nvidia_tts_utils')\n",
    "\n",
    "text = 'Some test text.'\n",
    "sequences, lengths = utils.prepare_input_sequence([text])\n",
    "with torch.no_grad():\n",
    "    mel, _, _ = tacotron2.infer(sequences, lengths)\n",
    "\n",
    "sns.reset_orig()\n",
    "plt.imshow(mel[0].cpu().numpy())\n",
    "plt.title('mel-frequency spectrogram');"
   ]
  },
  {
   "cell_type": "markdown",
   "metadata": {
    "id": "9odRMQS3fISF"
   },
   "source": [
    "After obtaining this spectrogram, we can generate the audio with `waveglow` model."
   ]
  },
  {
   "cell_type": "code",
   "execution_count": null,
   "metadata": {
    "colab": {
     "base_uri": "https://localhost:8080/",
     "height": 52
    },
    "id": "BdFfCjmsUUxQ",
    "outputId": "8d94bfcd-4157-4416-e6cc-b93a40edaea0"
   },
   "outputs": [],
   "source": [
    "from IPython.display import Audio\n",
    "\n",
    "sampling_rate = 22050\n",
    "\n",
    "with torch.no_grad():\n",
    "    audio = waveglow.infer(mel)\n",
    "\n",
    "audio_numpy = audio[0].cpu().numpy()\n",
    "Audio(audio_numpy, rate=sampling_rate)"
   ]
  },
  {
   "cell_type": "markdown",
   "metadata": {
    "id": "W0mnDWpdhpdi"
   },
   "source": [
    "We've generated a `.wav` format audio. We can save it using the `scipy.io.wavfile.write`."
   ]
  },
  {
   "cell_type": "code",
   "execution_count": null,
   "metadata": {
    "id": "rTMNu9Krh2cW"
   },
   "outputs": [],
   "source": [
    "from scipy.io.wavfile import write\n",
    "\n",
    "write('audio.wav', sampling_rate, audio_numpy)"
   ]
  },
  {
   "cell_type": "markdown",
   "metadata": {
    "id": "0pjEZy4TfT3w"
   },
   "source": [
    "This yields the following `text_to_speech` function."
   ]
  },
  {
   "cell_type": "code",
   "execution_count": null,
   "metadata": {
    "id": "YEvDynkPVscj"
   },
   "outputs": [],
   "source": [
    "def text_to_speech(text):\n",
    "    # preprocessing\n",
    "    sequences, lengths = utils.prepare_input_sequence([text])\n",
    "\n",
    "    # run the models\n",
    "    with torch.no_grad():\n",
    "        mel, _, _ = tacotron2.infer(sequences, lengths)\n",
    "        audio = waveglow.infer(mel)\n",
    "\n",
    "    audio_numpy = audio[0].cpu().numpy()\n",
    "    return audio_numpy"
   ]
  },
  {
   "cell_type": "code",
   "execution_count": null,
   "metadata": {
    "colab": {
     "base_uri": "https://localhost:8080/",
     "height": 52
    },
    "id": "RwqwZoxsWNmq",
    "outputId": "69f79ad9-2300-4a8c-bf4c-a4b952128f3c"
   },
   "outputs": [],
   "source": [
    "text = 'Another test text.'\n",
    "audio_numpy = text_to_speech(text)\n",
    "Audio(audio_numpy, rate=sampling_rate)"
   ]
  },
  {
   "cell_type": "markdown",
   "metadata": {
    "id": "gYittYwlfZfU"
   },
   "source": [
    "### Tying text to speech with question answering."
   ]
  },
  {
   "cell_type": "markdown",
   "metadata": {
    "id": "83WLbVnv7rRq"
   },
   "source": [
    "Let's take a look at [Mail.ru group blog post on Computer Vision on habr.com](https://habr.com/ru/company/mailru/blog/467905/)"
   ]
  },
  {
   "cell_type": "code",
   "execution_count": null,
   "metadata": {
    "id": "m2eMzsMY7rRq"
   },
   "outputs": [],
   "source": [
    "context = (\n",
    "    'One of Mail.ru Cloud’s objectives is to provide the handiest means for accessing '\n",
    "    'and searching your own photo and video archives. For this purpose, we at Mail.ru '\n",
    "    'Computer Vision Team have created and implemented systems for smart image '\n",
    "    'processing: search by object, by scene, by face, etc. Another spectacular '\n",
    "    'technology is landmark recognition. Today, I am going to tell you how we made '\n",
    "    'this a reality using Deep Learning.'\n",
    "    '\\n\\n'\n",
    "    'Imagine the situation: you return from your vacation with a load of photos. Talking '\n",
    "    'to your friends, you are asked to show a picture of a place worth seeing, like '\n",
    "    'palace, castle, pyramid, temple, lake, waterfall, mountain, and so on. You rush to '\n",
    "    'scroll your gallery folder trying to find one that is really good. Most likely, it '\n",
    "    'is lost amongst hundreds of images, and you say you will show it later.'\n",
    "    '\\n\\n'\n",
    "    'We solve this problem by grouping user photos in albums. This will let you find '\n",
    "    'pictures you need just in few clicks. Now we have albums compiled by face, by '\n",
    "    'object and by scene, and also by landmark.'\n",
    "    '\\n\\n'\n",
    "    'Photos with landmarks are essential because they often capture highlights of our '\n",
    "    'lives (journeys, for example). These can be pictures with some architecture or '\n",
    "    'wilderness in the background. This is why we seek to locate such images and make '\n",
    "    'them readily available to users.'\n",
    ")"
   ]
  },
  {
   "cell_type": "code",
   "execution_count": null,
   "metadata": {
    "colab": {
     "base_uri": "https://localhost:8080/"
    },
    "id": "4tkwZk-B7rRq",
    "outputId": "31b6de57-91a3-4bed-8b64-00cfa9ad0e14"
   },
   "outputs": [],
   "source": [
    "question = 'Why photos with landmarks are essential?'\n",
    "answer = answer_question(question, context)\n",
    "print(f'Answer: \"{answer}\"')"
   ]
  },
  {
   "cell_type": "markdown",
   "metadata": {
    "id": "chBm8WdIh_Bc"
   },
   "source": [
    "Let's cat question and answer into one phrase and convert it to audio!"
   ]
  },
  {
   "cell_type": "code",
   "execution_count": null,
   "metadata": {
    "colab": {
     "base_uri": "https://localhost:8080/",
     "height": 52
    },
    "id": "j9NhT0Np7rRr",
    "outputId": "c09ed603-a4cc-423c-b8b9-f8f4def9b42f"
   },
   "outputs": [],
   "source": [
    "text = f'{question}\\n{answer}'\n",
    "audio_numpy = text_to_speech(text)\n",
    "Audio(audio_numpy, rate=sampling_rate)"
   ]
  },
  {
   "cell_type": "markdown",
   "metadata": {
    "id": "cFDgT4OuijIp"
   },
   "source": [
    "And another one."
   ]
  },
  {
   "cell_type": "code",
   "execution_count": null,
   "metadata": {
    "colab": {
     "base_uri": "https://localhost:8080/",
     "height": 69
    },
    "id": "8iqcYLwgy1nT",
    "outputId": "03d7ca7d-cf6d-4b5d-b88a-b810f874f117"
   },
   "outputs": [],
   "source": [
    "question = \"Which places except mountain are worth seeing?\"\n",
    "answer = answer_question(question, context)\n",
    "print(f'Answer: \"{answer}\"')\n",
    "\n",
    "text = f'{question}\\n{answer}'\n",
    "audio_numpy = text_to_speech(text)\n",
    "Audio(audio_numpy, rate=sampling_rate)"
   ]
  },
  {
   "cell_type": "code",
   "execution_count": null,
   "metadata": {
    "id": "NIUIia_G7rRs"
   },
   "outputs": [],
   "source": [
    "# Take your time, experiment with questions and the generated audio"
   ]
  },
  {
   "cell_type": "markdown",
   "metadata": {
    "id": "vv5jEpkw7rRs"
   },
   "source": [
    "## [Optional] 5. Russian langugage speech generation"
   ]
  },
  {
   "cell_type": "markdown",
   "metadata": {
    "id": "_0uhvcBhj2k6"
   },
   "source": [
    "Of course, text to speech is not specific to english language. Here is how you can do it with russian."
   ]
  },
  {
   "cell_type": "code",
   "execution_count": null,
   "metadata": {
    "id": "TD79JX0g7rRs"
   },
   "outputs": [],
   "source": [
    "from omegaconf import OmegaConf\n",
    "\n",
    "torch.hub.download_url_to_file(\n",
    "    'https://raw.githubusercontent.com/snakers4/silero-models/master/models.yml',\n",
    "    'latest_silero_models.yml',\n",
    "    progress=False\n",
    ")\n",
    "models = OmegaConf.load('latest_silero_models.yml')\n",
    "\n",
    "# see latest avaiable models\n",
    "available_languages = list(models['tts_models'].keys())\n",
    "print(f'Available languages {available_languages}')\n",
    "\n",
    "for lang in available_languages:\n",
    "    speakers = list(models['tts_models'][lang].keys())\n",
    "    print(f'Available speakers for {lang}: {speakers}')"
   ]
  },
  {
   "cell_type": "markdown",
   "metadata": {
    "id": "ZVaR1xG8k94K"
   },
   "source": [
    "Let's choose our language and speaker and try using them!"
   ]
  },
  {
   "cell_type": "code",
   "execution_count": null,
   "metadata": {
    "id": "zKCT72on7rRt"
   },
   "outputs": [],
   "source": [
    "language = 'ru'\n",
    "speaker = 'kseniya_16khz'\n",
    "device = torch.device('cpu')\n",
    "model, symbols, sample_rate, example_text, apply_tts = torch.hub.load(\n",
    "    'snakers4/silero-models', 'silero_tts',\n",
    "    language=language, speaker=speaker\n",
    ")\n",
    "model = model.to(device)\n",
    "\n",
    "\n",
    "audio = apply_tts(\n",
    "    texts=[example_text],\n",
    "    model=model,\n",
    "    sample_rate=sample_rate,\n",
    "    symbols=symbols,\n",
    "    device=device\n",
    ")\n",
    "\n",
    "print(example_text)\n",
    "Audio(audio[0], rate=sample_rate)"
   ]
  },
  {
   "cell_type": "code",
   "execution_count": null,
   "metadata": {
    "id": "U0O3eCX87rRt"
   },
   "outputs": [],
   "source": [
    "audio = apply_tts(\n",
    "    texts=[\"Дерзайте знать! Спасибо за внимание!\"],\n",
    "    model=model,\n",
    "    sample_rate=sample_rate,\n",
    "    symbols=symbols,\n",
    "    device=device\n",
    ")\n",
    "Audio(audio[0], rate=sample_rate)"
   ]
  },
  {
   "cell_type": "code",
   "execution_count": null,
   "metadata": {
    "id": "N2_1sCYvALxG"
   },
   "outputs": [],
   "source": []
  }
 ],
 "metadata": {
  "accelerator": "GPU",
  "colab": {
   "collapsed_sections": [],
   "name": "practice_question_answering_and_tts.ipynb",
   "provenance": []
  },
  "kernelspec": {
   "display_name": "Python 3 (ipykernel)",
   "language": "python",
   "name": "python3"
  },
  "language_info": {
   "codemirror_mode": {
    "name": "ipython",
    "version": 3
   },
   "file_extension": ".py",
   "mimetype": "text/x-python",
   "name": "python",
   "nbconvert_exporter": "python",
   "pygments_lexer": "ipython3",
   "version": "3.9.7"
  },
  "widgets": {
   "application/vnd.jupyter.widget-state+json": {
    "0695270fa12047a69a2dcef569155b25": {
     "model_module": "@jupyter-widgets/base",
     "model_module_version": "1.2.0",
     "model_name": "LayoutModel",
     "state": {
      "_model_module": "@jupyter-widgets/base",
      "_model_module_version": "1.2.0",
      "_model_name": "LayoutModel",
      "_view_count": null,
      "_view_module": "@jupyter-widgets/base",
      "_view_module_version": "1.2.0",
      "_view_name": "LayoutView",
      "align_content": null,
      "align_items": null,
      "align_self": null,
      "border": null,
      "bottom": null,
      "display": null,
      "flex": null,
      "flex_flow": null,
      "grid_area": null,
      "grid_auto_columns": null,
      "grid_auto_flow": null,
      "grid_auto_rows": null,
      "grid_column": null,
      "grid_gap": null,
      "grid_row": null,
      "grid_template_areas": null,
      "grid_template_columns": null,
      "grid_template_rows": null,
      "height": null,
      "justify_content": null,
      "justify_items": null,
      "left": null,
      "margin": null,
      "max_height": null,
      "max_width": null,
      "min_height": null,
      "min_width": null,
      "object_fit": null,
      "object_position": null,
      "order": null,
      "overflow": null,
      "overflow_x": null,
      "overflow_y": null,
      "padding": null,
      "right": null,
      "top": null,
      "visibility": null,
      "width": null
     }
    },
    "07f8ddf6b1ae4143862d4e1888b253cb": {
     "model_module": "@jupyter-widgets/base",
     "model_module_version": "1.2.0",
     "model_name": "LayoutModel",
     "state": {
      "_model_module": "@jupyter-widgets/base",
      "_model_module_version": "1.2.0",
      "_model_name": "LayoutModel",
      "_view_count": null,
      "_view_module": "@jupyter-widgets/base",
      "_view_module_version": "1.2.0",
      "_view_name": "LayoutView",
      "align_content": null,
      "align_items": null,
      "align_self": null,
      "border": null,
      "bottom": null,
      "display": null,
      "flex": null,
      "flex_flow": null,
      "grid_area": null,
      "grid_auto_columns": null,
      "grid_auto_flow": null,
      "grid_auto_rows": null,
      "grid_column": null,
      "grid_gap": null,
      "grid_row": null,
      "grid_template_areas": null,
      "grid_template_columns": null,
      "grid_template_rows": null,
      "height": null,
      "justify_content": null,
      "justify_items": null,
      "left": null,
      "margin": null,
      "max_height": null,
      "max_width": null,
      "min_height": null,
      "min_width": null,
      "object_fit": null,
      "object_position": null,
      "order": null,
      "overflow": null,
      "overflow_x": null,
      "overflow_y": null,
      "padding": null,
      "right": null,
      "top": null,
      "visibility": null,
      "width": null
     }
    },
    "0ae8437438404098a5a6206b05ecf453": {
     "model_module": "@jupyter-widgets/controls",
     "model_module_version": "1.5.0",
     "model_name": "HTMLModel",
     "state": {
      "_dom_classes": [],
      "_model_module": "@jupyter-widgets/controls",
      "_model_module_version": "1.5.0",
      "_model_name": "HTMLModel",
      "_view_count": null,
      "_view_module": "@jupyter-widgets/controls",
      "_view_module_version": "1.5.0",
      "_view_name": "HTMLView",
      "description": "",
      "description_tooltip": null,
      "layout": "IPY_MODEL_494fb6f653f845b3837db00241bf4798",
      "placeholder": "​",
      "style": "IPY_MODEL_2165f1cd0739407a92079f643ac74ae3",
      "value": " 28.0/28.0 [00:00&lt;00:00, 487B/s]"
     }
    },
    "0bae2a0bb31b46f39a29c450e8c983c9": {
     "model_module": "@jupyter-widgets/controls",
     "model_module_version": "1.5.0",
     "model_name": "HTMLModel",
     "state": {
      "_dom_classes": [],
      "_model_module": "@jupyter-widgets/controls",
      "_model_module_version": "1.5.0",
      "_model_name": "HTMLModel",
      "_view_count": null,
      "_view_module": "@jupyter-widgets/controls",
      "_view_module_version": "1.5.0",
      "_view_name": "HTMLView",
      "description": "",
      "description_tooltip": null,
      "layout": "IPY_MODEL_1c750fddb4f14ac397026785a004921d",
      "placeholder": "​",
      "style": "IPY_MODEL_228cd2bb1c5a48088cd48fed5e8ee2e5",
      "value": "Downloading: 100%"
     }
    },
    "0e8242194958409abe8c5830767ae7b8": {
     "model_module": "@jupyter-widgets/base",
     "model_module_version": "1.2.0",
     "model_name": "LayoutModel",
     "state": {
      "_model_module": "@jupyter-widgets/base",
      "_model_module_version": "1.2.0",
      "_model_name": "LayoutModel",
      "_view_count": null,
      "_view_module": "@jupyter-widgets/base",
      "_view_module_version": "1.2.0",
      "_view_name": "LayoutView",
      "align_content": null,
      "align_items": null,
      "align_self": null,
      "border": null,
      "bottom": null,
      "display": null,
      "flex": null,
      "flex_flow": null,
      "grid_area": null,
      "grid_auto_columns": null,
      "grid_auto_flow": null,
      "grid_auto_rows": null,
      "grid_column": null,
      "grid_gap": null,
      "grid_row": null,
      "grid_template_areas": null,
      "grid_template_columns": null,
      "grid_template_rows": null,
      "height": null,
      "justify_content": null,
      "justify_items": null,
      "left": null,
      "margin": null,
      "max_height": null,
      "max_width": null,
      "min_height": null,
      "min_width": null,
      "object_fit": null,
      "object_position": null,
      "order": null,
      "overflow": null,
      "overflow_x": null,
      "overflow_y": null,
      "padding": null,
      "right": null,
      "top": null,
      "visibility": null,
      "width": null
     }
    },
    "17f2ae98a8d1440b8beebc2f8aaff051": {
     "model_module": "@jupyter-widgets/controls",
     "model_module_version": "1.5.0",
     "model_name": "HBoxModel",
     "state": {
      "_dom_classes": [],
      "_model_module": "@jupyter-widgets/controls",
      "_model_module_version": "1.5.0",
      "_model_name": "HBoxModel",
      "_view_count": null,
      "_view_module": "@jupyter-widgets/controls",
      "_view_module_version": "1.5.0",
      "_view_name": "HBoxView",
      "box_style": "",
      "children": [
       "IPY_MODEL_0bae2a0bb31b46f39a29c450e8c983c9",
       "IPY_MODEL_3d5da11d2072432face40e6f729f644b",
       "IPY_MODEL_f8318de1c5c74051adcf59d5f6261903"
      ],
      "layout": "IPY_MODEL_7ce0c95f422148ec92feee15262845f7"
     }
    },
    "18a3cd219c8642d3b6001f4dbed8a1a9": {
     "model_module": "@jupyter-widgets/controls",
     "model_module_version": "1.5.0",
     "model_name": "HTMLModel",
     "state": {
      "_dom_classes": [],
      "_model_module": "@jupyter-widgets/controls",
      "_model_module_version": "1.5.0",
      "_model_name": "HTMLModel",
      "_view_count": null,
      "_view_module": "@jupyter-widgets/controls",
      "_view_module_version": "1.5.0",
      "_view_name": "HTMLView",
      "description": "",
      "description_tooltip": null,
      "layout": "IPY_MODEL_c30803de30894426958ad02fbc9f0002",
      "placeholder": "​",
      "style": "IPY_MODEL_4f9a99283eec4c31b8ed463a0a5c4366",
      "value": "Downloading: 100%"
     }
    },
    "18a7445e957446ffa372185756f6b64c": {
     "model_module": "@jupyter-widgets/controls",
     "model_module_version": "1.5.0",
     "model_name": "HTMLModel",
     "state": {
      "_dom_classes": [],
      "_model_module": "@jupyter-widgets/controls",
      "_model_module_version": "1.5.0",
      "_model_name": "HTMLModel",
      "_view_count": null,
      "_view_module": "@jupyter-widgets/controls",
      "_view_module_version": "1.5.0",
      "_view_name": "HTMLView",
      "description": "",
      "description_tooltip": null,
      "layout": "IPY_MODEL_e36ef4cbcb4c466283f85f5d523d66cd",
      "placeholder": "​",
      "style": "IPY_MODEL_7669b34be42a4453b3e3ba0e60faee75",
      "value": "Downloading: 100%"
     }
    },
    "1aaa4d2569574c89a646d202738a829e": {
     "model_module": "@jupyter-widgets/base",
     "model_module_version": "1.2.0",
     "model_name": "LayoutModel",
     "state": {
      "_model_module": "@jupyter-widgets/base",
      "_model_module_version": "1.2.0",
      "_model_name": "LayoutModel",
      "_view_count": null,
      "_view_module": "@jupyter-widgets/base",
      "_view_module_version": "1.2.0",
      "_view_name": "LayoutView",
      "align_content": null,
      "align_items": null,
      "align_self": null,
      "border": null,
      "bottom": null,
      "display": null,
      "flex": null,
      "flex_flow": null,
      "grid_area": null,
      "grid_auto_columns": null,
      "grid_auto_flow": null,
      "grid_auto_rows": null,
      "grid_column": null,
      "grid_gap": null,
      "grid_row": null,
      "grid_template_areas": null,
      "grid_template_columns": null,
      "grid_template_rows": null,
      "height": null,
      "justify_content": null,
      "justify_items": null,
      "left": null,
      "margin": null,
      "max_height": null,
      "max_width": null,
      "min_height": null,
      "min_width": null,
      "object_fit": null,
      "object_position": null,
      "order": null,
      "overflow": null,
      "overflow_x": null,
      "overflow_y": null,
      "padding": null,
      "right": null,
      "top": null,
      "visibility": null,
      "width": null
     }
    },
    "1b981c0d4a0a4bdca32bb12960ce8a7a": {
     "model_module": "@jupyter-widgets/controls",
     "model_module_version": "1.5.0",
     "model_name": "DescriptionStyleModel",
     "state": {
      "_model_module": "@jupyter-widgets/controls",
      "_model_module_version": "1.5.0",
      "_model_name": "DescriptionStyleModel",
      "_view_count": null,
      "_view_module": "@jupyter-widgets/base",
      "_view_module_version": "1.2.0",
      "_view_name": "StyleView",
      "description_width": ""
     }
    },
    "1c750fddb4f14ac397026785a004921d": {
     "model_module": "@jupyter-widgets/base",
     "model_module_version": "1.2.0",
     "model_name": "LayoutModel",
     "state": {
      "_model_module": "@jupyter-widgets/base",
      "_model_module_version": "1.2.0",
      "_model_name": "LayoutModel",
      "_view_count": null,
      "_view_module": "@jupyter-widgets/base",
      "_view_module_version": "1.2.0",
      "_view_name": "LayoutView",
      "align_content": null,
      "align_items": null,
      "align_self": null,
      "border": null,
      "bottom": null,
      "display": null,
      "flex": null,
      "flex_flow": null,
      "grid_area": null,
      "grid_auto_columns": null,
      "grid_auto_flow": null,
      "grid_auto_rows": null,
      "grid_column": null,
      "grid_gap": null,
      "grid_row": null,
      "grid_template_areas": null,
      "grid_template_columns": null,
      "grid_template_rows": null,
      "height": null,
      "justify_content": null,
      "justify_items": null,
      "left": null,
      "margin": null,
      "max_height": null,
      "max_width": null,
      "min_height": null,
      "min_width": null,
      "object_fit": null,
      "object_position": null,
      "order": null,
      "overflow": null,
      "overflow_x": null,
      "overflow_y": null,
      "padding": null,
      "right": null,
      "top": null,
      "visibility": null,
      "width": null
     }
    },
    "1d6782097f9a45758fea597727c42da3": {
     "model_module": "@jupyter-widgets/controls",
     "model_module_version": "1.5.0",
     "model_name": "HBoxModel",
     "state": {
      "_dom_classes": [],
      "_model_module": "@jupyter-widgets/controls",
      "_model_module_version": "1.5.0",
      "_model_name": "HBoxModel",
      "_view_count": null,
      "_view_module": "@jupyter-widgets/controls",
      "_view_module_version": "1.5.0",
      "_view_name": "HBoxView",
      "box_style": "",
      "children": [
       "IPY_MODEL_18a7445e957446ffa372185756f6b64c",
       "IPY_MODEL_c6e9545c4c03427591aac4f49c774ff7",
       "IPY_MODEL_0ae8437438404098a5a6206b05ecf453"
      ],
      "layout": "IPY_MODEL_301ac3b9e5d04242b05d5943367bf048"
     }
    },
    "2061f0fcebbd4806a5b7308ea3079a7b": {
     "model_module": "@jupyter-widgets/base",
     "model_module_version": "1.2.0",
     "model_name": "LayoutModel",
     "state": {
      "_model_module": "@jupyter-widgets/base",
      "_model_module_version": "1.2.0",
      "_model_name": "LayoutModel",
      "_view_count": null,
      "_view_module": "@jupyter-widgets/base",
      "_view_module_version": "1.2.0",
      "_view_name": "LayoutView",
      "align_content": null,
      "align_items": null,
      "align_self": null,
      "border": null,
      "bottom": null,
      "display": null,
      "flex": null,
      "flex_flow": null,
      "grid_area": null,
      "grid_auto_columns": null,
      "grid_auto_flow": null,
      "grid_auto_rows": null,
      "grid_column": null,
      "grid_gap": null,
      "grid_row": null,
      "grid_template_areas": null,
      "grid_template_columns": null,
      "grid_template_rows": null,
      "height": null,
      "justify_content": null,
      "justify_items": null,
      "left": null,
      "margin": null,
      "max_height": null,
      "max_width": null,
      "min_height": null,
      "min_width": null,
      "object_fit": null,
      "object_position": null,
      "order": null,
      "overflow": null,
      "overflow_x": null,
      "overflow_y": null,
      "padding": null,
      "right": null,
      "top": null,
      "visibility": null,
      "width": null
     }
    },
    "2165f1cd0739407a92079f643ac74ae3": {
     "model_module": "@jupyter-widgets/controls",
     "model_module_version": "1.5.0",
     "model_name": "DescriptionStyleModel",
     "state": {
      "_model_module": "@jupyter-widgets/controls",
      "_model_module_version": "1.5.0",
      "_model_name": "DescriptionStyleModel",
      "_view_count": null,
      "_view_module": "@jupyter-widgets/base",
      "_view_module_version": "1.2.0",
      "_view_name": "StyleView",
      "description_width": ""
     }
    },
    "228cd2bb1c5a48088cd48fed5e8ee2e5": {
     "model_module": "@jupyter-widgets/controls",
     "model_module_version": "1.5.0",
     "model_name": "DescriptionStyleModel",
     "state": {
      "_model_module": "@jupyter-widgets/controls",
      "_model_module_version": "1.5.0",
      "_model_name": "DescriptionStyleModel",
      "_view_count": null,
      "_view_module": "@jupyter-widgets/base",
      "_view_module_version": "1.2.0",
      "_view_name": "StyleView",
      "description_width": ""
     }
    },
    "26506f018a824fd2981562f17ada25e9": {
     "model_module": "@jupyter-widgets/controls",
     "model_module_version": "1.5.0",
     "model_name": "ProgressStyleModel",
     "state": {
      "_model_module": "@jupyter-widgets/controls",
      "_model_module_version": "1.5.0",
      "_model_name": "ProgressStyleModel",
      "_view_count": null,
      "_view_module": "@jupyter-widgets/base",
      "_view_module_version": "1.2.0",
      "_view_name": "StyleView",
      "bar_color": null,
      "description_width": ""
     }
    },
    "28e9a4b59d8940228874918132a4379a": {
     "model_module": "@jupyter-widgets/base",
     "model_module_version": "1.2.0",
     "model_name": "LayoutModel",
     "state": {
      "_model_module": "@jupyter-widgets/base",
      "_model_module_version": "1.2.0",
      "_model_name": "LayoutModel",
      "_view_count": null,
      "_view_module": "@jupyter-widgets/base",
      "_view_module_version": "1.2.0",
      "_view_name": "LayoutView",
      "align_content": null,
      "align_items": null,
      "align_self": null,
      "border": null,
      "bottom": null,
      "display": null,
      "flex": null,
      "flex_flow": null,
      "grid_area": null,
      "grid_auto_columns": null,
      "grid_auto_flow": null,
      "grid_auto_rows": null,
      "grid_column": null,
      "grid_gap": null,
      "grid_row": null,
      "grid_template_areas": null,
      "grid_template_columns": null,
      "grid_template_rows": null,
      "height": null,
      "justify_content": null,
      "justify_items": null,
      "left": null,
      "margin": null,
      "max_height": null,
      "max_width": null,
      "min_height": null,
      "min_width": null,
      "object_fit": null,
      "object_position": null,
      "order": null,
      "overflow": null,
      "overflow_x": null,
      "overflow_y": null,
      "padding": null,
      "right": null,
      "top": null,
      "visibility": null,
      "width": null
     }
    },
    "301ac3b9e5d04242b05d5943367bf048": {
     "model_module": "@jupyter-widgets/base",
     "model_module_version": "1.2.0",
     "model_name": "LayoutModel",
     "state": {
      "_model_module": "@jupyter-widgets/base",
      "_model_module_version": "1.2.0",
      "_model_name": "LayoutModel",
      "_view_count": null,
      "_view_module": "@jupyter-widgets/base",
      "_view_module_version": "1.2.0",
      "_view_name": "LayoutView",
      "align_content": null,
      "align_items": null,
      "align_self": null,
      "border": null,
      "bottom": null,
      "display": null,
      "flex": null,
      "flex_flow": null,
      "grid_area": null,
      "grid_auto_columns": null,
      "grid_auto_flow": null,
      "grid_auto_rows": null,
      "grid_column": null,
      "grid_gap": null,
      "grid_row": null,
      "grid_template_areas": null,
      "grid_template_columns": null,
      "grid_template_rows": null,
      "height": null,
      "justify_content": null,
      "justify_items": null,
      "left": null,
      "margin": null,
      "max_height": null,
      "max_width": null,
      "min_height": null,
      "min_width": null,
      "object_fit": null,
      "object_position": null,
      "order": null,
      "overflow": null,
      "overflow_x": null,
      "overflow_y": null,
      "padding": null,
      "right": null,
      "top": null,
      "visibility": null,
      "width": null
     }
    },
    "3056ad61695a42ffadd7954a5a7503ed": {
     "model_module": "@jupyter-widgets/controls",
     "model_module_version": "1.5.0",
     "model_name": "HBoxModel",
     "state": {
      "_dom_classes": [],
      "_model_module": "@jupyter-widgets/controls",
      "_model_module_version": "1.5.0",
      "_model_name": "HBoxModel",
      "_view_count": null,
      "_view_module": "@jupyter-widgets/controls",
      "_view_module_version": "1.5.0",
      "_view_name": "HBoxView",
      "box_style": "",
      "children": [
       "IPY_MODEL_18a3cd219c8642d3b6001f4dbed8a1a9",
       "IPY_MODEL_e4099cf7a2c1426d844c1febc644001a",
       "IPY_MODEL_fe8d0c53f5704e42b7c271fecaa48851"
      ],
      "layout": "IPY_MODEL_2061f0fcebbd4806a5b7308ea3079a7b"
     }
    },
    "32364789d1ff47fc8c4056a7b48a7634": {
     "model_module": "@jupyter-widgets/controls",
     "model_module_version": "1.5.0",
     "model_name": "ProgressStyleModel",
     "state": {
      "_model_module": "@jupyter-widgets/controls",
      "_model_module_version": "1.5.0",
      "_model_name": "ProgressStyleModel",
      "_view_count": null,
      "_view_module": "@jupyter-widgets/base",
      "_view_module_version": "1.2.0",
      "_view_name": "StyleView",
      "bar_color": null,
      "description_width": ""
     }
    },
    "3d5da11d2072432face40e6f729f644b": {
     "model_module": "@jupyter-widgets/controls",
     "model_module_version": "1.5.0",
     "model_name": "FloatProgressModel",
     "state": {
      "_dom_classes": [],
      "_model_module": "@jupyter-widgets/controls",
      "_model_module_version": "1.5.0",
      "_model_name": "FloatProgressModel",
      "_view_count": null,
      "_view_module": "@jupyter-widgets/controls",
      "_view_module_version": "1.5.0",
      "_view_name": "ProgressView",
      "bar_style": "success",
      "description": "",
      "description_tooltip": null,
      "layout": "IPY_MODEL_f7d2834f66ac48719f1fd47dda33d7dc",
      "max": 451,
      "min": 0,
      "orientation": "horizontal",
      "style": "IPY_MODEL_e99dd095993f4053b5ba2a9c306582b9",
      "value": 451
     }
    },
    "3ec7e9e71b5e4feea47fe12b5f751d57": {
     "model_module": "@jupyter-widgets/base",
     "model_module_version": "1.2.0",
     "model_name": "LayoutModel",
     "state": {
      "_model_module": "@jupyter-widgets/base",
      "_model_module_version": "1.2.0",
      "_model_name": "LayoutModel",
      "_view_count": null,
      "_view_module": "@jupyter-widgets/base",
      "_view_module_version": "1.2.0",
      "_view_name": "LayoutView",
      "align_content": null,
      "align_items": null,
      "align_self": null,
      "border": null,
      "bottom": null,
      "display": null,
      "flex": null,
      "flex_flow": null,
      "grid_area": null,
      "grid_auto_columns": null,
      "grid_auto_flow": null,
      "grid_auto_rows": null,
      "grid_column": null,
      "grid_gap": null,
      "grid_row": null,
      "grid_template_areas": null,
      "grid_template_columns": null,
      "grid_template_rows": null,
      "height": null,
      "justify_content": null,
      "justify_items": null,
      "left": null,
      "margin": null,
      "max_height": null,
      "max_width": null,
      "min_height": null,
      "min_width": null,
      "object_fit": null,
      "object_position": null,
      "order": null,
      "overflow": null,
      "overflow_x": null,
      "overflow_y": null,
      "padding": null,
      "right": null,
      "top": null,
      "visibility": null,
      "width": null
     }
    },
    "3f4e292341444c128a6941020bf78ea7": {
     "model_module": "@jupyter-widgets/controls",
     "model_module_version": "1.5.0",
     "model_name": "DescriptionStyleModel",
     "state": {
      "_model_module": "@jupyter-widgets/controls",
      "_model_module_version": "1.5.0",
      "_model_name": "DescriptionStyleModel",
      "_view_count": null,
      "_view_module": "@jupyter-widgets/base",
      "_view_module_version": "1.2.0",
      "_view_name": "StyleView",
      "description_width": ""
     }
    },
    "3ffe97d1a93d46c5ad72625841831419": {
     "model_module": "@jupyter-widgets/controls",
     "model_module_version": "1.5.0",
     "model_name": "ProgressStyleModel",
     "state": {
      "_model_module": "@jupyter-widgets/controls",
      "_model_module_version": "1.5.0",
      "_model_name": "ProgressStyleModel",
      "_view_count": null,
      "_view_module": "@jupyter-widgets/base",
      "_view_module_version": "1.2.0",
      "_view_name": "StyleView",
      "bar_color": null,
      "description_width": ""
     }
    },
    "49107e49101e469abe491d5fb4e4466a": {
     "model_module": "@jupyter-widgets/controls",
     "model_module_version": "1.5.0",
     "model_name": "ProgressStyleModel",
     "state": {
      "_model_module": "@jupyter-widgets/controls",
      "_model_module_version": "1.5.0",
      "_model_name": "ProgressStyleModel",
      "_view_count": null,
      "_view_module": "@jupyter-widgets/base",
      "_view_module_version": "1.2.0",
      "_view_name": "StyleView",
      "bar_color": null,
      "description_width": ""
     }
    },
    "494fb6f653f845b3837db00241bf4798": {
     "model_module": "@jupyter-widgets/base",
     "model_module_version": "1.2.0",
     "model_name": "LayoutModel",
     "state": {
      "_model_module": "@jupyter-widgets/base",
      "_model_module_version": "1.2.0",
      "_model_name": "LayoutModel",
      "_view_count": null,
      "_view_module": "@jupyter-widgets/base",
      "_view_module_version": "1.2.0",
      "_view_name": "LayoutView",
      "align_content": null,
      "align_items": null,
      "align_self": null,
      "border": null,
      "bottom": null,
      "display": null,
      "flex": null,
      "flex_flow": null,
      "grid_area": null,
      "grid_auto_columns": null,
      "grid_auto_flow": null,
      "grid_auto_rows": null,
      "grid_column": null,
      "grid_gap": null,
      "grid_row": null,
      "grid_template_areas": null,
      "grid_template_columns": null,
      "grid_template_rows": null,
      "height": null,
      "justify_content": null,
      "justify_items": null,
      "left": null,
      "margin": null,
      "max_height": null,
      "max_width": null,
      "min_height": null,
      "min_width": null,
      "object_fit": null,
      "object_position": null,
      "order": null,
      "overflow": null,
      "overflow_x": null,
      "overflow_y": null,
      "padding": null,
      "right": null,
      "top": null,
      "visibility": null,
      "width": null
     }
    },
    "4f9a99283eec4c31b8ed463a0a5c4366": {
     "model_module": "@jupyter-widgets/controls",
     "model_module_version": "1.5.0",
     "model_name": "DescriptionStyleModel",
     "state": {
      "_model_module": "@jupyter-widgets/controls",
      "_model_module_version": "1.5.0",
      "_model_name": "DescriptionStyleModel",
      "_view_count": null,
      "_view_module": "@jupyter-widgets/base",
      "_view_module_version": "1.2.0",
      "_view_name": "StyleView",
      "description_width": ""
     }
    },
    "59df97cee8854be19b28d63f714816be": {
     "model_module": "@jupyter-widgets/controls",
     "model_module_version": "1.5.0",
     "model_name": "DescriptionStyleModel",
     "state": {
      "_model_module": "@jupyter-widgets/controls",
      "_model_module_version": "1.5.0",
      "_model_name": "DescriptionStyleModel",
      "_view_count": null,
      "_view_module": "@jupyter-widgets/base",
      "_view_module_version": "1.2.0",
      "_view_name": "StyleView",
      "description_width": ""
     }
    },
    "60050037056f4231ab5c6afa8ae9ec27": {
     "model_module": "@jupyter-widgets/base",
     "model_module_version": "1.2.0",
     "model_name": "LayoutModel",
     "state": {
      "_model_module": "@jupyter-widgets/base",
      "_model_module_version": "1.2.0",
      "_model_name": "LayoutModel",
      "_view_count": null,
      "_view_module": "@jupyter-widgets/base",
      "_view_module_version": "1.2.0",
      "_view_name": "LayoutView",
      "align_content": null,
      "align_items": null,
      "align_self": null,
      "border": null,
      "bottom": null,
      "display": null,
      "flex": null,
      "flex_flow": null,
      "grid_area": null,
      "grid_auto_columns": null,
      "grid_auto_flow": null,
      "grid_auto_rows": null,
      "grid_column": null,
      "grid_gap": null,
      "grid_row": null,
      "grid_template_areas": null,
      "grid_template_columns": null,
      "grid_template_rows": null,
      "height": null,
      "justify_content": null,
      "justify_items": null,
      "left": null,
      "margin": null,
      "max_height": null,
      "max_width": null,
      "min_height": null,
      "min_width": null,
      "object_fit": null,
      "object_position": null,
      "order": null,
      "overflow": null,
      "overflow_x": null,
      "overflow_y": null,
      "padding": null,
      "right": null,
      "top": null,
      "visibility": null,
      "width": null
     }
    },
    "68976e9d2ac1420cb548307c96c5a8a6": {
     "model_module": "@jupyter-widgets/controls",
     "model_module_version": "1.5.0",
     "model_name": "DescriptionStyleModel",
     "state": {
      "_model_module": "@jupyter-widgets/controls",
      "_model_module_version": "1.5.0",
      "_model_name": "DescriptionStyleModel",
      "_view_count": null,
      "_view_module": "@jupyter-widgets/base",
      "_view_module_version": "1.2.0",
      "_view_name": "StyleView",
      "description_width": ""
     }
    },
    "71f49045ee564ca3b485270db1e69792": {
     "model_module": "@jupyter-widgets/controls",
     "model_module_version": "1.5.0",
     "model_name": "HTMLModel",
     "state": {
      "_dom_classes": [],
      "_model_module": "@jupyter-widgets/controls",
      "_model_module_version": "1.5.0",
      "_model_name": "HTMLModel",
      "_view_count": null,
      "_view_module": "@jupyter-widgets/controls",
      "_view_module_version": "1.5.0",
      "_view_name": "HTMLView",
      "description": "",
      "description_tooltip": null,
      "layout": "IPY_MODEL_eef6db037885440f891824e5a8f5358f",
      "placeholder": "​",
      "style": "IPY_MODEL_a51916d0bd0a43fdba9e46f20a80d6a2",
      "value": " 226k/226k [00:00&lt;00:00, 477kB/s]"
     }
    },
    "7669b34be42a4453b3e3ba0e60faee75": {
     "model_module": "@jupyter-widgets/controls",
     "model_module_version": "1.5.0",
     "model_name": "DescriptionStyleModel",
     "state": {
      "_model_module": "@jupyter-widgets/controls",
      "_model_module_version": "1.5.0",
      "_model_name": "DescriptionStyleModel",
      "_view_count": null,
      "_view_module": "@jupyter-widgets/base",
      "_view_module_version": "1.2.0",
      "_view_name": "StyleView",
      "description_width": ""
     }
    },
    "7ce0c95f422148ec92feee15262845f7": {
     "model_module": "@jupyter-widgets/base",
     "model_module_version": "1.2.0",
     "model_name": "LayoutModel",
     "state": {
      "_model_module": "@jupyter-widgets/base",
      "_model_module_version": "1.2.0",
      "_model_name": "LayoutModel",
      "_view_count": null,
      "_view_module": "@jupyter-widgets/base",
      "_view_module_version": "1.2.0",
      "_view_name": "LayoutView",
      "align_content": null,
      "align_items": null,
      "align_self": null,
      "border": null,
      "bottom": null,
      "display": null,
      "flex": null,
      "flex_flow": null,
      "grid_area": null,
      "grid_auto_columns": null,
      "grid_auto_flow": null,
      "grid_auto_rows": null,
      "grid_column": null,
      "grid_gap": null,
      "grid_row": null,
      "grid_template_areas": null,
      "grid_template_columns": null,
      "grid_template_rows": null,
      "height": null,
      "justify_content": null,
      "justify_items": null,
      "left": null,
      "margin": null,
      "max_height": null,
      "max_width": null,
      "min_height": null,
      "min_width": null,
      "object_fit": null,
      "object_position": null,
      "order": null,
      "overflow": null,
      "overflow_x": null,
      "overflow_y": null,
      "padding": null,
      "right": null,
      "top": null,
      "visibility": null,
      "width": null
     }
    },
    "7d1f7a87ed484be999ea793bf4c34dd3": {
     "model_module": "@jupyter-widgets/base",
     "model_module_version": "1.2.0",
     "model_name": "LayoutModel",
     "state": {
      "_model_module": "@jupyter-widgets/base",
      "_model_module_version": "1.2.0",
      "_model_name": "LayoutModel",
      "_view_count": null,
      "_view_module": "@jupyter-widgets/base",
      "_view_module_version": "1.2.0",
      "_view_name": "LayoutView",
      "align_content": null,
      "align_items": null,
      "align_self": null,
      "border": null,
      "bottom": null,
      "display": null,
      "flex": null,
      "flex_flow": null,
      "grid_area": null,
      "grid_auto_columns": null,
      "grid_auto_flow": null,
      "grid_auto_rows": null,
      "grid_column": null,
      "grid_gap": null,
      "grid_row": null,
      "grid_template_areas": null,
      "grid_template_columns": null,
      "grid_template_rows": null,
      "height": null,
      "justify_content": null,
      "justify_items": null,
      "left": null,
      "margin": null,
      "max_height": null,
      "max_width": null,
      "min_height": null,
      "min_width": null,
      "object_fit": null,
      "object_position": null,
      "order": null,
      "overflow": null,
      "overflow_x": null,
      "overflow_y": null,
      "padding": null,
      "right": null,
      "top": null,
      "visibility": null,
      "width": null
     }
    },
    "85e24abbc05d4937ac86793c9c36e1f5": {
     "model_module": "@jupyter-widgets/controls",
     "model_module_version": "1.5.0",
     "model_name": "HBoxModel",
     "state": {
      "_dom_classes": [],
      "_model_module": "@jupyter-widgets/controls",
      "_model_module_version": "1.5.0",
      "_model_name": "HBoxModel",
      "_view_count": null,
      "_view_module": "@jupyter-widgets/controls",
      "_view_module_version": "1.5.0",
      "_view_name": "HBoxView",
      "box_style": "",
      "children": [
       "IPY_MODEL_8ca5505516334e50b305f559633213fd",
       "IPY_MODEL_96eb7cdf8e9b48bfb3a619c3a6b4e3e0",
       "IPY_MODEL_c97f4996f8d14b9c94cfefaf1c7adfea"
      ],
      "layout": "IPY_MODEL_3ec7e9e71b5e4feea47fe12b5f751d57"
     }
    },
    "8ca5505516334e50b305f559633213fd": {
     "model_module": "@jupyter-widgets/controls",
     "model_module_version": "1.5.0",
     "model_name": "HTMLModel",
     "state": {
      "_dom_classes": [],
      "_model_module": "@jupyter-widgets/controls",
      "_model_module_version": "1.5.0",
      "_model_name": "HTMLModel",
      "_view_count": null,
      "_view_module": "@jupyter-widgets/controls",
      "_view_module_version": "1.5.0",
      "_view_name": "HTMLView",
      "description": "",
      "description_tooltip": null,
      "layout": "IPY_MODEL_28e9a4b59d8940228874918132a4379a",
      "placeholder": "​",
      "style": "IPY_MODEL_59df97cee8854be19b28d63f714816be",
      "value": "Downloading: 100%"
     }
    },
    "8d9aded51b004aababcda8e76798a534": {
     "model_module": "@jupyter-widgets/controls",
     "model_module_version": "1.5.0",
     "model_name": "HTMLModel",
     "state": {
      "_dom_classes": [],
      "_model_module": "@jupyter-widgets/controls",
      "_model_module_version": "1.5.0",
      "_model_name": "HTMLModel",
      "_view_count": null,
      "_view_module": "@jupyter-widgets/controls",
      "_view_module_version": "1.5.0",
      "_view_name": "HTMLView",
      "description": "",
      "description_tooltip": null,
      "layout": "IPY_MODEL_07f8ddf6b1ae4143862d4e1888b253cb",
      "placeholder": "​",
      "style": "IPY_MODEL_1b981c0d4a0a4bdca32bb12960ce8a7a",
      "value": "Downloading: 100%"
     }
    },
    "96eb7cdf8e9b48bfb3a619c3a6b4e3e0": {
     "model_module": "@jupyter-widgets/controls",
     "model_module_version": "1.5.0",
     "model_name": "FloatProgressModel",
     "state": {
      "_dom_classes": [],
      "_model_module": "@jupyter-widgets/controls",
      "_model_module_version": "1.5.0",
      "_model_name": "FloatProgressModel",
      "_view_count": null,
      "_view_module": "@jupyter-widgets/controls",
      "_view_module_version": "1.5.0",
      "_view_name": "ProgressView",
      "bar_style": "success",
      "description": "",
      "description_tooltip": null,
      "layout": "IPY_MODEL_0e8242194958409abe8c5830767ae7b8",
      "max": 265481570,
      "min": 0,
      "orientation": "horizontal",
      "style": "IPY_MODEL_26506f018a824fd2981562f17ada25e9",
      "value": 265481570
     }
    },
    "a51916d0bd0a43fdba9e46f20a80d6a2": {
     "model_module": "@jupyter-widgets/controls",
     "model_module_version": "1.5.0",
     "model_name": "DescriptionStyleModel",
     "state": {
      "_model_module": "@jupyter-widgets/controls",
      "_model_module_version": "1.5.0",
      "_model_name": "DescriptionStyleModel",
      "_view_count": null,
      "_view_module": "@jupyter-widgets/base",
      "_view_module_version": "1.2.0",
      "_view_name": "StyleView",
      "description_width": ""
     }
    },
    "b12f548d82ca4586b61f701cb1abacb4": {
     "model_module": "@jupyter-widgets/base",
     "model_module_version": "1.2.0",
     "model_name": "LayoutModel",
     "state": {
      "_model_module": "@jupyter-widgets/base",
      "_model_module_version": "1.2.0",
      "_model_name": "LayoutModel",
      "_view_count": null,
      "_view_module": "@jupyter-widgets/base",
      "_view_module_version": "1.2.0",
      "_view_name": "LayoutView",
      "align_content": null,
      "align_items": null,
      "align_self": null,
      "border": null,
      "bottom": null,
      "display": null,
      "flex": null,
      "flex_flow": null,
      "grid_area": null,
      "grid_auto_columns": null,
      "grid_auto_flow": null,
      "grid_auto_rows": null,
      "grid_column": null,
      "grid_gap": null,
      "grid_row": null,
      "grid_template_areas": null,
      "grid_template_columns": null,
      "grid_template_rows": null,
      "height": null,
      "justify_content": null,
      "justify_items": null,
      "left": null,
      "margin": null,
      "max_height": null,
      "max_width": null,
      "min_height": null,
      "min_width": null,
      "object_fit": null,
      "object_position": null,
      "order": null,
      "overflow": null,
      "overflow_x": null,
      "overflow_y": null,
      "padding": null,
      "right": null,
      "top": null,
      "visibility": null,
      "width": null
     }
    },
    "c30803de30894426958ad02fbc9f0002": {
     "model_module": "@jupyter-widgets/base",
     "model_module_version": "1.2.0",
     "model_name": "LayoutModel",
     "state": {
      "_model_module": "@jupyter-widgets/base",
      "_model_module_version": "1.2.0",
      "_model_name": "LayoutModel",
      "_view_count": null,
      "_view_module": "@jupyter-widgets/base",
      "_view_module_version": "1.2.0",
      "_view_name": "LayoutView",
      "align_content": null,
      "align_items": null,
      "align_self": null,
      "border": null,
      "bottom": null,
      "display": null,
      "flex": null,
      "flex_flow": null,
      "grid_area": null,
      "grid_auto_columns": null,
      "grid_auto_flow": null,
      "grid_auto_rows": null,
      "grid_column": null,
      "grid_gap": null,
      "grid_row": null,
      "grid_template_areas": null,
      "grid_template_columns": null,
      "grid_template_rows": null,
      "height": null,
      "justify_content": null,
      "justify_items": null,
      "left": null,
      "margin": null,
      "max_height": null,
      "max_width": null,
      "min_height": null,
      "min_width": null,
      "object_fit": null,
      "object_position": null,
      "order": null,
      "overflow": null,
      "overflow_x": null,
      "overflow_y": null,
      "padding": null,
      "right": null,
      "top": null,
      "visibility": null,
      "width": null
     }
    },
    "c6e9545c4c03427591aac4f49c774ff7": {
     "model_module": "@jupyter-widgets/controls",
     "model_module_version": "1.5.0",
     "model_name": "FloatProgressModel",
     "state": {
      "_dom_classes": [],
      "_model_module": "@jupyter-widgets/controls",
      "_model_module_version": "1.5.0",
      "_model_name": "FloatProgressModel",
      "_view_count": null,
      "_view_module": "@jupyter-widgets/controls",
      "_view_module_version": "1.5.0",
      "_view_name": "ProgressView",
      "bar_style": "success",
      "description": "",
      "description_tooltip": null,
      "layout": "IPY_MODEL_d434a8d87ce24bf7865ba75298d95729",
      "max": 28,
      "min": 0,
      "orientation": "horizontal",
      "style": "IPY_MODEL_49107e49101e469abe491d5fb4e4466a",
      "value": 28
     }
    },
    "c97f4996f8d14b9c94cfefaf1c7adfea": {
     "model_module": "@jupyter-widgets/controls",
     "model_module_version": "1.5.0",
     "model_name": "HTMLModel",
     "state": {
      "_dom_classes": [],
      "_model_module": "@jupyter-widgets/controls",
      "_model_module_version": "1.5.0",
      "_model_name": "HTMLModel",
      "_view_count": null,
      "_view_module": "@jupyter-widgets/controls",
      "_view_module_version": "1.5.0",
      "_view_name": "HTMLView",
      "description": "",
      "description_tooltip": null,
      "layout": "IPY_MODEL_1aaa4d2569574c89a646d202738a829e",
      "placeholder": "​",
      "style": "IPY_MODEL_68976e9d2ac1420cb548307c96c5a8a6",
      "value": " 253M/253M [00:16&lt;00:00, 9.50MB/s]"
     }
    },
    "d434a8d87ce24bf7865ba75298d95729": {
     "model_module": "@jupyter-widgets/base",
     "model_module_version": "1.2.0",
     "model_name": "LayoutModel",
     "state": {
      "_model_module": "@jupyter-widgets/base",
      "_model_module_version": "1.2.0",
      "_model_name": "LayoutModel",
      "_view_count": null,
      "_view_module": "@jupyter-widgets/base",
      "_view_module_version": "1.2.0",
      "_view_name": "LayoutView",
      "align_content": null,
      "align_items": null,
      "align_self": null,
      "border": null,
      "bottom": null,
      "display": null,
      "flex": null,
      "flex_flow": null,
      "grid_area": null,
      "grid_auto_columns": null,
      "grid_auto_flow": null,
      "grid_auto_rows": null,
      "grid_column": null,
      "grid_gap": null,
      "grid_row": null,
      "grid_template_areas": null,
      "grid_template_columns": null,
      "grid_template_rows": null,
      "height": null,
      "justify_content": null,
      "justify_items": null,
      "left": null,
      "margin": null,
      "max_height": null,
      "max_width": null,
      "min_height": null,
      "min_width": null,
      "object_fit": null,
      "object_position": null,
      "order": null,
      "overflow": null,
      "overflow_x": null,
      "overflow_y": null,
      "padding": null,
      "right": null,
      "top": null,
      "visibility": null,
      "width": null
     }
    },
    "e36ef4cbcb4c466283f85f5d523d66cd": {
     "model_module": "@jupyter-widgets/base",
     "model_module_version": "1.2.0",
     "model_name": "LayoutModel",
     "state": {
      "_model_module": "@jupyter-widgets/base",
      "_model_module_version": "1.2.0",
      "_model_name": "LayoutModel",
      "_view_count": null,
      "_view_module": "@jupyter-widgets/base",
      "_view_module_version": "1.2.0",
      "_view_name": "LayoutView",
      "align_content": null,
      "align_items": null,
      "align_self": null,
      "border": null,
      "bottom": null,
      "display": null,
      "flex": null,
      "flex_flow": null,
      "grid_area": null,
      "grid_auto_columns": null,
      "grid_auto_flow": null,
      "grid_auto_rows": null,
      "grid_column": null,
      "grid_gap": null,
      "grid_row": null,
      "grid_template_areas": null,
      "grid_template_columns": null,
      "grid_template_rows": null,
      "height": null,
      "justify_content": null,
      "justify_items": null,
      "left": null,
      "margin": null,
      "max_height": null,
      "max_width": null,
      "min_height": null,
      "min_width": null,
      "object_fit": null,
      "object_position": null,
      "order": null,
      "overflow": null,
      "overflow_x": null,
      "overflow_y": null,
      "padding": null,
      "right": null,
      "top": null,
      "visibility": null,
      "width": null
     }
    },
    "e4099cf7a2c1426d844c1febc644001a": {
     "model_module": "@jupyter-widgets/controls",
     "model_module_version": "1.5.0",
     "model_name": "FloatProgressModel",
     "state": {
      "_dom_classes": [],
      "_model_module": "@jupyter-widgets/controls",
      "_model_module_version": "1.5.0",
      "_model_name": "FloatProgressModel",
      "_view_count": null,
      "_view_module": "@jupyter-widgets/controls",
      "_view_module_version": "1.5.0",
      "_view_name": "ProgressView",
      "bar_style": "success",
      "description": "",
      "description_tooltip": null,
      "layout": "IPY_MODEL_b12f548d82ca4586b61f701cb1abacb4",
      "max": 466062,
      "min": 0,
      "orientation": "horizontal",
      "style": "IPY_MODEL_3ffe97d1a93d46c5ad72625841831419",
      "value": 466062
     }
    },
    "e4c848c91a394012bbab804ff3e888a8": {
     "model_module": "@jupyter-widgets/controls",
     "model_module_version": "1.5.0",
     "model_name": "FloatProgressModel",
     "state": {
      "_dom_classes": [],
      "_model_module": "@jupyter-widgets/controls",
      "_model_module_version": "1.5.0",
      "_model_name": "FloatProgressModel",
      "_view_count": null,
      "_view_module": "@jupyter-widgets/controls",
      "_view_module_version": "1.5.0",
      "_view_name": "ProgressView",
      "bar_style": "success",
      "description": "",
      "description_tooltip": null,
      "layout": "IPY_MODEL_7d1f7a87ed484be999ea793bf4c34dd3",
      "max": 231508,
      "min": 0,
      "orientation": "horizontal",
      "style": "IPY_MODEL_32364789d1ff47fc8c4056a7b48a7634",
      "value": 231508
     }
    },
    "e99dd095993f4053b5ba2a9c306582b9": {
     "model_module": "@jupyter-widgets/controls",
     "model_module_version": "1.5.0",
     "model_name": "ProgressStyleModel",
     "state": {
      "_model_module": "@jupyter-widgets/controls",
      "_model_module_version": "1.5.0",
      "_model_name": "ProgressStyleModel",
      "_view_count": null,
      "_view_module": "@jupyter-widgets/base",
      "_view_module_version": "1.2.0",
      "_view_name": "StyleView",
      "bar_color": null,
      "description_width": ""
     }
    },
    "ed11dd778e2f49af96e269c4c37c6417": {
     "model_module": "@jupyter-widgets/base",
     "model_module_version": "1.2.0",
     "model_name": "LayoutModel",
     "state": {
      "_model_module": "@jupyter-widgets/base",
      "_model_module_version": "1.2.0",
      "_model_name": "LayoutModel",
      "_view_count": null,
      "_view_module": "@jupyter-widgets/base",
      "_view_module_version": "1.2.0",
      "_view_name": "LayoutView",
      "align_content": null,
      "align_items": null,
      "align_self": null,
      "border": null,
      "bottom": null,
      "display": null,
      "flex": null,
      "flex_flow": null,
      "grid_area": null,
      "grid_auto_columns": null,
      "grid_auto_flow": null,
      "grid_auto_rows": null,
      "grid_column": null,
      "grid_gap": null,
      "grid_row": null,
      "grid_template_areas": null,
      "grid_template_columns": null,
      "grid_template_rows": null,
      "height": null,
      "justify_content": null,
      "justify_items": null,
      "left": null,
      "margin": null,
      "max_height": null,
      "max_width": null,
      "min_height": null,
      "min_width": null,
      "object_fit": null,
      "object_position": null,
      "order": null,
      "overflow": null,
      "overflow_x": null,
      "overflow_y": null,
      "padding": null,
      "right": null,
      "top": null,
      "visibility": null,
      "width": null
     }
    },
    "eef6db037885440f891824e5a8f5358f": {
     "model_module": "@jupyter-widgets/base",
     "model_module_version": "1.2.0",
     "model_name": "LayoutModel",
     "state": {
      "_model_module": "@jupyter-widgets/base",
      "_model_module_version": "1.2.0",
      "_model_name": "LayoutModel",
      "_view_count": null,
      "_view_module": "@jupyter-widgets/base",
      "_view_module_version": "1.2.0",
      "_view_name": "LayoutView",
      "align_content": null,
      "align_items": null,
      "align_self": null,
      "border": null,
      "bottom": null,
      "display": null,
      "flex": null,
      "flex_flow": null,
      "grid_area": null,
      "grid_auto_columns": null,
      "grid_auto_flow": null,
      "grid_auto_rows": null,
      "grid_column": null,
      "grid_gap": null,
      "grid_row": null,
      "grid_template_areas": null,
      "grid_template_columns": null,
      "grid_template_rows": null,
      "height": null,
      "justify_content": null,
      "justify_items": null,
      "left": null,
      "margin": null,
      "max_height": null,
      "max_width": null,
      "min_height": null,
      "min_width": null,
      "object_fit": null,
      "object_position": null,
      "order": null,
      "overflow": null,
      "overflow_x": null,
      "overflow_y": null,
      "padding": null,
      "right": null,
      "top": null,
      "visibility": null,
      "width": null
     }
    },
    "f10f304cd83a424bb1acce2a79cac5a5": {
     "model_module": "@jupyter-widgets/controls",
     "model_module_version": "1.5.0",
     "model_name": "HBoxModel",
     "state": {
      "_dom_classes": [],
      "_model_module": "@jupyter-widgets/controls",
      "_model_module_version": "1.5.0",
      "_model_name": "HBoxModel",
      "_view_count": null,
      "_view_module": "@jupyter-widgets/controls",
      "_view_module_version": "1.5.0",
      "_view_name": "HBoxView",
      "box_style": "",
      "children": [
       "IPY_MODEL_8d9aded51b004aababcda8e76798a534",
       "IPY_MODEL_e4c848c91a394012bbab804ff3e888a8",
       "IPY_MODEL_71f49045ee564ca3b485270db1e69792"
      ],
      "layout": "IPY_MODEL_60050037056f4231ab5c6afa8ae9ec27"
     }
    },
    "f7819d286ecc424e83c1d6e509ab1486": {
     "model_module": "@jupyter-widgets/controls",
     "model_module_version": "1.5.0",
     "model_name": "DescriptionStyleModel",
     "state": {
      "_model_module": "@jupyter-widgets/controls",
      "_model_module_version": "1.5.0",
      "_model_name": "DescriptionStyleModel",
      "_view_count": null,
      "_view_module": "@jupyter-widgets/base",
      "_view_module_version": "1.2.0",
      "_view_name": "StyleView",
      "description_width": ""
     }
    },
    "f7d2834f66ac48719f1fd47dda33d7dc": {
     "model_module": "@jupyter-widgets/base",
     "model_module_version": "1.2.0",
     "model_name": "LayoutModel",
     "state": {
      "_model_module": "@jupyter-widgets/base",
      "_model_module_version": "1.2.0",
      "_model_name": "LayoutModel",
      "_view_count": null,
      "_view_module": "@jupyter-widgets/base",
      "_view_module_version": "1.2.0",
      "_view_name": "LayoutView",
      "align_content": null,
      "align_items": null,
      "align_self": null,
      "border": null,
      "bottom": null,
      "display": null,
      "flex": null,
      "flex_flow": null,
      "grid_area": null,
      "grid_auto_columns": null,
      "grid_auto_flow": null,
      "grid_auto_rows": null,
      "grid_column": null,
      "grid_gap": null,
      "grid_row": null,
      "grid_template_areas": null,
      "grid_template_columns": null,
      "grid_template_rows": null,
      "height": null,
      "justify_content": null,
      "justify_items": null,
      "left": null,
      "margin": null,
      "max_height": null,
      "max_width": null,
      "min_height": null,
      "min_width": null,
      "object_fit": null,
      "object_position": null,
      "order": null,
      "overflow": null,
      "overflow_x": null,
      "overflow_y": null,
      "padding": null,
      "right": null,
      "top": null,
      "visibility": null,
      "width": null
     }
    },
    "f8318de1c5c74051adcf59d5f6261903": {
     "model_module": "@jupyter-widgets/controls",
     "model_module_version": "1.5.0",
     "model_name": "HTMLModel",
     "state": {
      "_dom_classes": [],
      "_model_module": "@jupyter-widgets/controls",
      "_model_module_version": "1.5.0",
      "_model_name": "HTMLModel",
      "_view_count": null,
      "_view_module": "@jupyter-widgets/controls",
      "_view_module_version": "1.5.0",
      "_view_name": "HTMLView",
      "description": "",
      "description_tooltip": null,
      "layout": "IPY_MODEL_0695270fa12047a69a2dcef569155b25",
      "placeholder": "​",
      "style": "IPY_MODEL_3f4e292341444c128a6941020bf78ea7",
      "value": " 451/451 [00:00&lt;00:00, 8.05kB/s]"
     }
    },
    "fe8d0c53f5704e42b7c271fecaa48851": {
     "model_module": "@jupyter-widgets/controls",
     "model_module_version": "1.5.0",
     "model_name": "HTMLModel",
     "state": {
      "_dom_classes": [],
      "_model_module": "@jupyter-widgets/controls",
      "_model_module_version": "1.5.0",
      "_model_name": "HTMLModel",
      "_view_count": null,
      "_view_module": "@jupyter-widgets/controls",
      "_view_module_version": "1.5.0",
      "_view_name": "HTMLView",
      "description": "",
      "description_tooltip": null,
      "layout": "IPY_MODEL_ed11dd778e2f49af96e269c4c37c6417",
      "placeholder": "​",
      "style": "IPY_MODEL_f7819d286ecc424e83c1d6e509ab1486",
      "value": " 455k/455k [00:00&lt;00:00, 720kB/s]"
     }
    }
   }
  }
 },
 "nbformat": 4,
 "nbformat_minor": 1
}
